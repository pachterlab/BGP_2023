{
  "nbformat": 4,
  "nbformat_minor": 0,
  "metadata": {
    "colab": {
      "provenance": [],
      "authorship_tag": "ABX9TyNERVMlRNP/+5K6hlhuxaC9",
      "include_colab_link": true
    },
    "kernelspec": {
      "name": "python3",
      "display_name": "Python 3"
    },
    "language_info": {
      "name": "python"
    }
  },
  "cells": [
    {
      "cell_type": "markdown",
      "metadata": {
        "id": "view-in-github",
        "colab_type": "text"
      },
      "source": [
        "<a href=\"https://colab.research.google.com/github/pachterlab/BGP_2023/blob/main/analysis/snATAK.ipynb\" target=\"_parent\"><img src=\"https://colab.research.google.com/assets/colab-badge.svg\" alt=\"Open In Colab\"/></a>"
      ]
    },
    {
      "cell_type": "code",
      "source": [
        "import time\n",
        "start_time = time.time()"
      ],
      "metadata": {
        "id": "cpfwvPm80MZ6"
      },
      "execution_count": null,
      "outputs": []
    },
    {
      "cell_type": "code",
      "source": [
        "!git clone https://github.com/pachterlab/BGP_2023.git"
      ],
      "metadata": {
        "id": "rBiSoRraoG-G",
        "colab": {
          "base_uri": "https://localhost:8080/"
        },
        "outputId": "02a84ba7-ada3-402c-a7af-58ebb81a3fe5"
      },
      "execution_count": 1,
      "outputs": [
        {
          "output_type": "stream",
          "name": "stdout",
          "text": [
            "Cloning into 'BGP_2023'...\n",
            "remote: Enumerating objects: 110, done.\u001b[K\n",
            "remote: Counting objects: 100% (63/63), done.\u001b[K\n",
            "remote: Compressing objects: 100% (51/51), done.\u001b[K\n",
            "remote: Total 110 (delta 18), reused 38 (delta 8), pack-reused 47\u001b[K\n",
            "Receiving objects: 100% (110/110), 233.43 MiB | 20.05 MiB/s, done.\n",
            "Resolving deltas: 100% (23/23), done.\n",
            "Updating files: 100% (43/43), done.\n"
          ]
        }
      ]
    },
    {
      "cell_type": "code",
      "execution_count": 2,
      "metadata": {
        "colab": {
          "base_uri": "https://localhost:8080/"
        },
        "id": "I-jilmzPWGlJ",
        "outputId": "05a79f2a-7a19-486a-ff75-56a463977932"
      },
      "outputs": [
        {
          "output_type": "stream",
          "name": "stdout",
          "text": [
            "\u001b[2K     \u001b[90m━━━━━━━━━━━━━━━━━━━━━━━━━━━━━━━━━━━━━━━━\u001b[0m \u001b[32m7.5/7.5 MB\u001b[0m \u001b[31m59.8 MB/s\u001b[0m eta \u001b[36m0:00:00\u001b[0m\n",
            "\u001b[?25h  Preparing metadata (setup.py) ... \u001b[?25l\u001b[?25hdone\n",
            "\u001b[2K     \u001b[90m━━━━━━━━━━━━━━━━━━━━━━━━━━━━━━━━━━━━━━\u001b[0m \u001b[32m103.0/103.0 kB\u001b[0m \u001b[31m12.2 MB/s\u001b[0m eta \u001b[36m0:00:00\u001b[0m\n",
            "\u001b[2K     \u001b[90m━━━━━━━━━━━━━━━━━━━━━━━━━━━━━━━━━━━━━━━━\u001b[0m \u001b[32m4.8/4.8 MB\u001b[0m \u001b[31m40.0 MB/s\u001b[0m eta \u001b[36m0:00:00\u001b[0m\n",
            "\u001b[?25h  Preparing metadata (setup.py) ... \u001b[?25l\u001b[?25hdone\n",
            "\u001b[2K     \u001b[90m━━━━━━━━━━━━━━━━━━━━━━━━━━━━━━━━━━━━━━━━\u001b[0m \u001b[32m45.2/45.2 MB\u001b[0m \u001b[31m16.5 MB/s\u001b[0m eta \u001b[36m0:00:00\u001b[0m\n",
            "\u001b[?25h  Preparing metadata (setup.py) ... \u001b[?25l\u001b[?25hdone\n",
            "\u001b[2K     \u001b[90m━━━━━━━━━━━━━━━━━━━━━━━━━━━━━━━━━━━━━━━━\u001b[0m \u001b[32m2.0/2.0 MB\u001b[0m \u001b[31m72.6 MB/s\u001b[0m eta \u001b[36m0:00:00\u001b[0m\n",
            "\u001b[2K     \u001b[90m━━━━━━━━━━━━━━━━━━━━━━━━━━━━━━━━━━━━━━━━\u001b[0m \u001b[32m20.1/20.1 MB\u001b[0m \u001b[31m16.7 MB/s\u001b[0m eta \u001b[36m0:00:00\u001b[0m\n",
            "\u001b[?25h  Preparing metadata (setup.py) ... \u001b[?25l\u001b[?25hdone\n",
            "\u001b[2K     \u001b[90m━━━━━━━━━━━━━━━━━━━━━━━━━━━━━━━━━━━━━━━━\u001b[0m \u001b[32m88.2/88.2 kB\u001b[0m \u001b[31m10.3 MB/s\u001b[0m eta \u001b[36m0:00:00\u001b[0m\n",
            "\u001b[?25h  Preparing metadata (setup.py) ... \u001b[?25l\u001b[?25hdone\n",
            "\u001b[2K     \u001b[90m━━━━━━━━━━━━━━━━━━━━━━━━━━━━━━━━━━━━━━━━\u001b[0m \u001b[32m1.1/1.1 MB\u001b[0m \u001b[31m64.2 MB/s\u001b[0m eta \u001b[36m0:00:00\u001b[0m\n",
            "\u001b[?25h  Preparing metadata (setup.py) ... \u001b[?25l\u001b[?25hdone\n",
            "\u001b[2K     \u001b[90m━━━━━━━━━━━━━━━━━━━━━━━━━━━━━━━━━━━━━━━━\u001b[0m \u001b[32m63.5/63.5 kB\u001b[0m \u001b[31m6.1 MB/s\u001b[0m eta \u001b[36m0:00:00\u001b[0m\n",
            "\u001b[?25h  Building wheel for kb-python (setup.py) ... \u001b[?25l\u001b[?25hdone\n",
            "  Building wheel for loompy (setup.py) ... \u001b[?25l\u001b[?25hdone\n",
            "  Building wheel for ngs-tools (setup.py) ... \u001b[?25l\u001b[?25hdone\n",
            "  Building wheel for umap-learn (setup.py) ... \u001b[?25l\u001b[?25hdone\n",
            "  Building wheel for session-info (setup.py) ... \u001b[?25l\u001b[?25hdone\n",
            "  Building wheel for pynndescent (setup.py) ... \u001b[?25l\u001b[?25hdone\n",
            "minimap2-2.24_x64-l 100%[===================>]   2.04M  --.-KB/s    in 0.02s   \n",
            "samtools-1.17.tar.b 100%[===================>]   8.21M  --.-KB/s    in 0.03s   \n",
            "mkdir -p -m 755 /content/samtools-1.17/bin /content/samtools-1.17/bin /content/samtools-1.17/share/man/man1\n",
            "install -p samtools /content/samtools-1.17/bin\n",
            "install -p misc/ace2sam misc/maq2sam-long misc/maq2sam-short misc/md5fa misc/md5sum-lite misc/wgsim /content/samtools-1.17/bin\n",
            "install -p misc/blast2sam.pl misc/bowtie2sam.pl misc/export2sam.pl misc/fasta-sanitize.pl misc/interpolate_sam.pl misc/novo2sam.pl misc/plot-ampliconstats misc/plot-bamstats misc/psl2sam.pl misc/sam2vcf.pl misc/samtools.pl misc/seq_cache_populate.pl misc/soap2sam.pl misc/wgsim_eval.pl misc/zoom2sam.pl /content/samtools-1.17/bin\n",
            "install -p -m 644 doc/samtools*.1 misc/wgsim.1 /content/samtools-1.17/share/man/man1\n",
            "Cloning into 'Genrich'...\n",
            "remote: Enumerating objects: 540, done.\u001b[K\n",
            "remote: Counting objects: 100% (19/19), done.\u001b[K\n",
            "remote: Compressing objects: 100% (14/14), done.\u001b[K\n",
            "remote: Total 540 (delta 10), reused 14 (delta 5), pack-reused 521\u001b[K\n",
            "Receiving objects: 100% (540/540), 460.49 KiB | 12.79 MiB/s, done.\n",
            "Resolving deltas: 100% (307/307), done.\n",
            "gcc -g -Wall -std=gnu99 -O2 -o Genrich Genrich.c -lz -lm\n",
            "bedtools.static.bin 100%[===================>]  40.05M   255MB/s    in 0.2s    \n",
            "Branch 'shareseq' set up to track remote branch 'shareseq' from 'origin'.\n",
            "Switched to a new branch 'shareseq'\n",
            "-- The C compiler identification is GNU 9.4.0\n",
            "-- The CXX compiler identification is GNU 9.4.0\n",
            "-- Detecting C compiler ABI info\n",
            "-- Detecting C compiler ABI info - done\n",
            "-- Check for working C compiler: /usr/bin/cc - skipped\n",
            "-- Detecting C compile features\n",
            "-- Detecting C compile features - done\n",
            "-- Detecting CXX compiler ABI info\n",
            "-- Detecting CXX compiler ABI info - done\n",
            "-- Check for working CXX compiler: /usr/bin/c++ - skipped\n",
            "-- Detecting CXX compile features\n",
            "-- Detecting CXX compile features - done\n",
            "\u001b[0mshared build\u001b[0m\n",
            "-- Performing Test CMAKE_HAVE_LIBC_PTHREAD\n",
            "-- Performing Test CMAKE_HAVE_LIBC_PTHREAD - Failed\n",
            "-- Looking for pthread_create in pthreads\n",
            "-- Looking for pthread_create in pthreads - not found\n",
            "-- Looking for pthread_create in pthread\n",
            "-- Looking for pthread_create in pthread - found\n",
            "-- Found Threads: TRUE  \n",
            "-- Found ZLIB: /usr/lib/x86_64-linux-gnu/libz.so (found version \"1.2.11\") \n",
            "-- Configuring done\n",
            "-- Generating done\n",
            "-- Build files have been written to: /content/kallisto/build\n"
          ]
        }
      ],
      "source": [
        "# kb python for quantification\n",
        "!pip install --quiet kb-python\n",
        "\n",
        "# install minimap for mapping paired end reads\n",
        "!wget --quiet --show-progress \"https://github.com/lh3/minimap2/releases/download/v2.24/minimap2-2.24_x64-linux.tar.bz2\"\n",
        "!tar -jxf minimap2-2.24_x64-linux.tar.bz2\n",
        "!cp minimap2-2.24_x64-linux/minimap2 /usr/local/bin\n",
        "\n",
        "# Insstall samtools for sam file manipulation\n",
        "# !wget --quiet --show-progress https://github.com/biod/sambamba/releases/download/v0.8.2/sambamba-0.8.2-linux-amd64-static.gz\n",
        "# !gunzip sambamba-0.8.2-linux-amd64-static.gz\n",
        "# !chmod +x /content/sambamba-0.8.2-linux-amd64-static\n",
        "# !mv sambamba-0.8.2-linux-amd64-static /usr/local/bin/sambamba\n",
        "\n",
        "!wget --quiet --show-progress https://github.com/samtools/samtools/releases/download/1.17/samtools-1.17.tar.bz2\n",
        "!tar -jxf samtools-1.17.tar.bz2\n",
        "!cd samtools-1.17/ && ./configure -q --prefix=$(pwd) && make -s && make install\n",
        "!cp samtools-1.17/samtools /usr/local/bin\n",
        "\n",
        "# Genrich for peak callling\n",
        "!git clone https://github.com/jsh58/Genrich.git\n",
        "!cd Genrich && make && cp Genrich /usr/local/bin\n",
        "\n",
        "# bedtools for slicing the peaks\n",
        "!wget --quiet --show-progress https://github.com/arq5x/bedtools2/releases/download/v2.30.0/bedtools.static.binary\n",
        "!chmod +x /content/bedtools.static.binary\n",
        "!mv /content/bedtools.static.binary /usr/local/bin/bedtools\n",
        "\n",
        "!git clone --quiet https://github.com/pachterlab/kallisto && cd kallisto && git checkout shareseq\n",
        "!apt-get -qq install autoconf\n",
        "!cd kallisto && mkdir build && cd build && cmake .. && make &> /dev/null\n",
        "!cp kallisto/build/src/kallisto $(pip show kb-python | grep \"Location\" | cut -f2 -d\":\")/kb_python/bins/linux/kallisto/kallisto\n",
        "!cp kallisto/build/src/kallisto /usr/local/bin\n",
        "!cp $(pip show kb-python | grep \"Location\" | cut -f2 -d\":\")/kb_python/bins/linux/bustools/bustools /usr/local/bin"
      ]
    },
    {
      "cell_type": "code",
      "source": [
        "!kallisto version"
      ],
      "metadata": {
        "colab": {
          "base_uri": "https://localhost:8080/"
        },
        "id": "VWltHmTLWzjw",
        "outputId": "5c791268-6a91-41f8-83af-bad522a979b9"
      },
      "execution_count": 14,
      "outputs": [
        {
          "output_type": "stream",
          "name": "stdout",
          "text": [
            "kallisto, version 0.48.0\n"
          ]
        }
      ]
    },
    {
      "cell_type": "code",
      "source": [
        "!minimap2 --version"
      ],
      "metadata": {
        "colab": {
          "base_uri": "https://localhost:8080/"
        },
        "id": "ikn1dEZ1XGn2",
        "outputId": "c3caeb4e-4c20-4654-a8b0-99ad9c828452"
      },
      "execution_count": 15,
      "outputs": [
        {
          "output_type": "stream",
          "name": "stdout",
          "text": [
            "2.24-r1122\n"
          ]
        }
      ]
    },
    {
      "cell_type": "code",
      "source": [
        "!samtools version"
      ],
      "metadata": {
        "colab": {
          "base_uri": "https://localhost:8080/"
        },
        "id": "stCgVpazqcvJ",
        "outputId": "1ebeaada-2b6a-4bf0-8e16-8d8be48feb3a"
      },
      "execution_count": 11,
      "outputs": [
        {
          "output_type": "stream",
          "name": "stdout",
          "text": [
            "samtools 1.17\n",
            "Using htslib 1.17\n",
            "Copyright (C) 2023 Genome Research Ltd.\n",
            "\n",
            "Samtools compilation details:\n",
            "    Features:       build=configure curses=yes \n",
            "    CC:             gcc\n",
            "    CPPFLAGS:       \n",
            "    CFLAGS:         -Wall -g -O2\n",
            "    LDFLAGS:        \n",
            "    HTSDIR:         htslib-1.17\n",
            "    LIBS:           \n",
            "    CURSES_LIB:     -lncursesw\n",
            "\n",
            "HTSlib compilation details:\n",
            "    Features:       build=configure libcurl=yes S3=yes GCS=yes libdeflate=yes lzma=yes bzip2=yes plugins=no htscodecs=1.4.0\n",
            "    CC:             gcc\n",
            "    CPPFLAGS:       \n",
            "    CFLAGS:         -Wall -g -O2 -fvisibility=hidden\n",
            "    LDFLAGS:        -fvisibility=hidden \n",
            "\n",
            "HTSlib URL scheme handlers present:\n",
            "    built-in:\t preload, data, file\n",
            "    S3 Multipart Upload:\t s3w, s3w+https, s3w+http\n",
            "    Amazon S3:\t s3+https, s3+http, s3\n",
            "    Google Cloud Storage:\t gs+http, gs+https, gs\n",
            "    libcurl:\t imaps, pop3, http, smb, gopher, sftp, ftps, imap, smtp, smtps, rtsp, scp, ftp, telnet, rtmp, ldap, https, ldaps, smbs, tftp, pop3s, dict\n",
            "    crypt4gh-needed:\t crypt4gh\n",
            "    mem:\t mem\n"
          ]
        }
      ]
    },
    {
      "cell_type": "code",
      "source": [
        "!Genrich --version"
      ],
      "metadata": {
        "colab": {
          "base_uri": "https://localhost:8080/"
        },
        "id": "mGzvudEKrZ6x",
        "outputId": "f28b3d60-5f45-4ddd-9fd0-884207914dfa"
      },
      "execution_count": 17,
      "outputs": [
        {
          "output_type": "stream",
          "name": "stdout",
          "text": [
            "Genrich, version 0.6.2\n",
            "Copyright (C) 2018 John M. Gaspar (jsh58@wildcats.unh.edu)\n"
          ]
        }
      ]
    },
    {
      "cell_type": "code",
      "source": [
        "!bedtools --version"
      ],
      "metadata": {
        "colab": {
          "base_uri": "https://localhost:8080/"
        },
        "id": "_I3nfoRMsVT2",
        "outputId": "8fb4baf9-d950-438d-806f-eea41bf86718"
      },
      "execution_count": 19,
      "outputs": [
        {
          "output_type": "stream",
          "name": "stdout",
          "text": [
            "bedtools v2.30.0\n"
          ]
        }
      ]
    },
    {
      "cell_type": "code",
      "source": [
        "!wget --quiet --show-progress \"http://ftp.ensembl.org/pub/release-104/fasta/homo_sapiens/dna/Homo_sapiens.GRCh38.dna.primary_assembly.fa.gz\""
      ],
      "metadata": {
        "colab": {
          "base_uri": "https://localhost:8080/"
        },
        "id": "29hU4nwMWLjx",
        "outputId": "ee2c3dde-32a7-4151-cc79-d04d62268bc7"
      },
      "execution_count": 28,
      "outputs": [
        {
          "output_type": "stream",
          "name": "stdout",
          "text": [
            "Homo_sapiens.GRCh38 100%[+++================>] 840.39M   776KB/s    in 15m 45s \n"
          ]
        }
      ]
    },
    {
      "cell_type": "code",
      "source": [
        "!time minimap2 \\\n",
        "-d ref.mmi \\\n",
        "Homo_sapiens.GRCh38.dna.primary_assembly.fa.gz"
      ],
      "metadata": {
        "colab": {
          "base_uri": "https://localhost:8080/"
        },
        "id": "K-bh3JzGWR6f",
        "outputId": "ec790f88-517c-4b38-9281-a273e2d23945"
      },
      "execution_count": 29,
      "outputs": [
        {
          "output_type": "stream",
          "name": "stdout",
          "text": [
            "/bin/bash: line 1: 11382 Killed                  minimap2 -d ref.mmi Homo_sapiens.GRCh38.dna.primary_assembly.fa.gz\n",
            "\n",
            "real\t2m2.635s\n",
            "user\t2m40.966s\n",
            "sys\t0m25.301s\n"
          ]
        }
      ]
    },
    {
      "cell_type": "code",
      "source": [
        "!gunzip Homo_sapiens.GRCh38.dna.primary_assembly.fa \\\n",
        "&& fold -w 80 Homo_sapiens.GRCh38.dna.primary_assembly.fa > genome.fa"
      ],
      "metadata": {
        "id": "0UwLzpAdhMf2"
      },
      "execution_count": null,
      "outputs": []
    },
    {
      "cell_type": "code",
      "source": [
        "!BGP_2023/analysis/snATAK_ref.sh \\\n",
        "-o ref -g genome.fa -m ref.mmi \\\n",
        "-c BGP_2023/data/example/CB.fastq.gz \\\n",
        "-1 BGP_2023/data/example/R1.fastq.gz \\\n",
        "-2 BGP_2023/data/example/R2.fastq.gz "
      ],
      "metadata": {
        "colab": {
          "base_uri": "https://localhost:8080/"
        },
        "id": "cps4ZN7B8tgc",
        "outputId": "4065f4c4-e8f7-4751-8527-8f3f4e72acd9"
      },
      "execution_count": 27,
      "outputs": [
        {
          "output_type": "stream",
          "name": "stdout",
          "text": [
            "Output: \n",
            "Genome: \n",
            "MMI: \n",
            "CB fastq: \n",
            "R1 fastq: \n",
            "R2 fastq: \n",
            "Error\n",
            "Usage: /content/BGP_2023/analysis/snATAK_ref.sh [options]\n",
            "    \n",
            "    Options:\n",
            "    -o, --output\n",
            "    -g, --genome\n",
            "    -m, --mmi\n",
            "    -c, --cbfastq\n",
            "    -1, --r1fastq\n",
            "    -2, --r2fastq\n",
            "    \n"
          ]
        }
      ]
    },
    {
      "cell_type": "code",
      "source": [
        "!ls -lht peaks.idx"
      ],
      "metadata": {
        "colab": {
          "base_uri": "https://localhost:8080/"
        },
        "id": "H5wQq4bjbeCb",
        "outputId": "ca02c93c-3ecb-40a1-a71f-ac120c4473d2"
      },
      "execution_count": null,
      "outputs": [
        {
          "output_type": "stream",
          "name": "stdout",
          "text": [
            "-rw-r--r-- 1 root root 572M Oct  7 23:50 peaks.idx\n"
          ]
        }
      ]
    },
    {
      "cell_type": "code",
      "source": [
        "!head t2g.txt"
      ],
      "metadata": {
        "colab": {
          "base_uri": "https://localhost:8080/"
        },
        "id": "I3oD2EV3NSDA",
        "outputId": "d72bf837-3edc-4ebb-c394-867c672855c2"
      },
      "execution_count": null,
      "outputs": [
        {
          "output_type": "stream",
          "name": "stdout",
          "text": [
            "1:10015-10460\t1:10015-10460\t1:10015-10460\n",
            "1:11154-11266\t1:11154-11266\t1:11154-11266\n",
            "1:29210-29373\t1:29210-29373\t1:29210-29373\n",
            "1:29480-29798\t1:29480-29798\t1:29480-29798\n",
            "1:99502-99868\t1:99502-99868\t1:99502-99868\n",
            "1:104185-104255\t1:104185-104255\t1:104185-104255\n",
            "1:143396-143517\t1:143396-143517\t1:143396-143517\n",
            "1:149332-149519\t1:149332-149519\t1:149332-149519\n",
            "1:180546-180929\t1:180546-180929\t1:180546-180929\n",
            "1:181290-181834\t1:181290-181834\t1:181290-181834\n"
          ]
        }
      ]
    },
    {
      "cell_type": "code",
      "source": [
        "!zcat BGP_2023/data/example/R1.fastq.gz | head -2\n",
        "!zcat BGP_2023/data/example/R2.fastq.gz | head -2\n",
        "!zcat BGP_2023/data/example/CB.fastq.gz | head -2"
      ],
      "metadata": {
        "colab": {
          "base_uri": "https://localhost:8080/"
        },
        "id": "2_5AkysmXLbc",
        "outputId": "04ae6fd4-064e-48d5-d7f9-65f91dfb830f"
      },
      "execution_count": 3,
      "outputs": [
        {
          "output_type": "stream",
          "name": "stdout",
          "text": [
            "@A00836:480:HJ2W5DSXY:1:1101:30355:1016 1:N:0:CCGAGAAC\n",
            "CNCCGGACCCACTCCCATTACCGTCTGGATCAGCAGCTCCAGGTCGCGGG\n",
            "@A00836:480:HJ2W5DSXY:1:1101:30355:1016 3:N:0:CCGAGAAC\n",
            "CCCTAGTGCTGTCCGTGACTTCTTTGGATCATGTCTGGCCCAAGATGGG\n",
            "@A00836:480:HJ2W5DSXY:1:1101:30355:1016 2:N:0:CCGAGAAC\n",
            "CCGTAAACACCAAAGC\n"
          ]
        }
      ]
    },
    {
      "cell_type": "code",
      "source": [
        "!kb count \\\n",
        "-i peaks.idx \\\n",
        "-g t2g.txt \\\n",
        "-x 10xATAC \\\n",
        "-o out \\\n",
        "-w 737K-cratac-v1.txt \\\n",
        "-t 2 \\\n",
        "--h5ad \\\n",
        "CB.fastq.gz R1.fastq.gz R2.fastq.gz"
      ],
      "metadata": {
        "colab": {
          "base_uri": "https://localhost:8080/"
        },
        "id": "NoIiAlNNNTEj",
        "outputId": "879fdf48-0bf1-44bd-a711-31768343cf1e"
      },
      "execution_count": null,
      "outputs": [
        {
          "output_type": "stream",
          "name": "stdout",
          "text": [
            "[2022-10-07 23:50:56,040]    INFO [count] Using index peaks.idx to generate BUS file to out from\n",
            "[2022-10-07 23:50:56,040]    INFO [count]         min-R2.fastq.gz\n",
            "[2022-10-07 23:50:56,041]    INFO [count]         min-R1.fastq.gz\n",
            "[2022-10-07 23:50:56,041]    INFO [count]         min-R3.fastq.gz\n",
            "[2022-10-07 23:51:02,971]    INFO [count] Sorting BUS file out/output.bus to out/tmp/output.s.bus\n",
            "[2022-10-07 23:51:08,397]    INFO [count] Inspecting BUS file out/tmp/output.s.bus\n",
            "[2022-10-07 23:51:10,008]    INFO [count] Correcting BUS records in out/tmp/output.s.bus to out/tmp/output.s.c.bus with whitelist 737K-cratac-v1.txt\n",
            "[2022-10-07 23:51:13,032]    INFO [count] Sorting BUS file out/tmp/output.s.c.bus to out/output.unfiltered.bus\n",
            "[2022-10-07 23:51:18,060]    INFO [count] Generating count matrix out/counts_unfiltered/cells_x_genes from BUS file out/output.unfiltered.bus\n",
            "[2022-10-07 23:51:20,075]    INFO [count] Reading matrix out/counts_unfiltered/cells_x_genes.mtx\n",
            "[2022-10-07 23:51:21,075]    INFO [count] Writing matrix to h5ad out/counts_unfiltered/adata.h5ad\n"
          ]
        }
      ]
    },
    {
      "cell_type": "code",
      "source": [
        "# Since we are doing read counting we need to use `--cm`, once this is implemented in kb we can just do it there\n",
        "!bustools count \\\n",
        "-o out/counts_unfiltered/cells_x_genes \\\n",
        "-g t2g.txt \\\n",
        "-e out/matrix.ec \\\n",
        "-t out/transcripts.txt \\\n",
        "--genecounts \\\n",
        "--cm \\\n",
        "out/output.unfiltered.bus"
      ],
      "metadata": {
        "id": "yNJbEjkfYwHs"
      },
      "execution_count": null,
      "outputs": []
    },
    {
      "cell_type": "code",
      "source": [
        "(time.time()-start_time)/60"
      ],
      "metadata": {
        "id": "zW-KOHwXaHtD",
        "outputId": "1ed6345a-4956-427a-a4e8-cc959b40aaad",
        "colab": {
          "base_uri": "https://localhost:8080/"
        }
      },
      "execution_count": null,
      "outputs": [
        {
          "output_type": "execute_result",
          "data": {
            "text/plain": [
              "11.038964438438416"
            ]
          },
          "metadata": {},
          "execution_count": 29
        }
      ]
    }
  ]
}
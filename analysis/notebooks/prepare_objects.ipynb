{
 "cells": [
  {
   "cell_type": "code",
   "execution_count": 3,
   "id": "163c6cb4-0ae1-41c9-b58d-e7d45bd092b1",
   "metadata": {
    "tags": []
   },
   "outputs": [],
   "source": [
    "import anndata\n",
    "import matplotlib\n",
    "import matplotlib.pyplot as plt\n",
    "import numpy as np\n",
    "import pandas as pd\n",
    "from kb_python.utils import import_matrix_as_anndata\n",
    "from sklearn.linear_model import LinearRegression\n",
    "from upsetplot import from_contents, from_indicators\n",
    "from upsetplot import plot as upset\n",
    "from scipy.stats import ttest_ind_from_stats\n",
    "import anndata \n",
    "from mpl_toolkits.axes_grid1 import make_axes_locatable\n",
    "from mx.mx_inspect import mx_inspect_rows, mx_inspect_cols\n",
    "from mx.mx_normalize import mx_normalize\n",
    "import muon\n",
    "import scanpy\n",
    "from scipy.io import mmread\n",
    "\n",
    "fsize = 15\n",
    "import sys\n",
    "\n",
    "def nd(arr):\n",
    "    return np.asarray(arr).reshape(-1)\n",
    "\n",
    "\n",
    "def yex(ax):\n",
    "    lims = [\n",
    "        np.min([ax.get_xlim(), ax.get_ylim()]),  # min of both axes\n",
    "        np.max([ax.get_xlim(), ax.get_ylim()]),  # max of both axes\n",
    "    ]\n",
    "\n",
    "    # now plot both limits against eachother\n",
    "    ax.plot(lims, lims, c=\"k\", alpha=0.75, zorder=0)\n",
    "    ax.set(**{\"aspect\": \"equal\", \"xlim\": lims, \"ylim\": lims})\n",
    "    return ax\n",
    "\n",
    "\n",
    "plt.rcParams.update({\"font.size\": fsize})\n",
    "%config InlineBackend.figure_format = 'retina'"
   ]
  },
  {
   "cell_type": "markdown",
   "id": "f2d86beb-8535-414e-86a4-0c4e8d0a8771",
   "metadata": {},
   "source": [
    "# scATAK peaks, subsampled reads"
   ]
  },
  {
   "cell_type": "code",
   "execution_count": 2,
   "id": "de4f8fe1-5429-415f-8465-60986f1d6c5c",
   "metadata": {
    "tags": []
   },
   "outputs": [],
   "source": [
    "a = anndata.read_h5ad(\"/home/sina/projects/atac/scATAK/data/10xPBMC/mome_x/out_kb_peaks_subsam/counts_mult/adata.h5ad\")\n",
    "g = anndata.read_h5ad(\"/home/sina/projects/atac/scATAK/data/10xPBMC/mome_x/out_kb_genes_subsam/counts_nolist/adata.h5ad\") # multiome RNA whitelist\n",
    "cm = anndata.read_h5ad(\"/home/sina/projects/atac/scATAK/data/10xPBMC/mome_x/out_kb_genes_subsam/counts_mult/adata.h5ad\")\n",
    "\n",
    "# load whitelists\n",
    "awl = pd.read_csv(\"/home/sina/projects/atac/scATAK/references/onlists/10xMOME/ATA-737K-arc-v1_rc.txt\", header=None, names=[\"ata\"]) # 737K-arc-v1_rc.txt\n",
    "gwl = pd.read_csv(\"/home/sina/projects/atac/scATAK/references/onlists/10xMOME/RNA-737K-arc-v1.txt\", header=None, names=[\"rna\"]) # 10x_version3_whitelist.txt\n",
    "\n",
    "# Map BCs between MOME-RNA and MOME-ATAC\n",
    "bcmap = pd.concat([awl, gwl], axis=1).set_index(\"ata\")\n",
    "\n",
    "a.obs[\"ata_bcs\"] = a.obs.index.values\n",
    "a.obs[\"rna_bcs\"] = a.obs.index.map(bcmap[\"rna\"])\n",
    "a.obs.set_index(\"rna_bcs\", inplace=True)\n",
    "\n",
    "common = np.intersect1d(a.obs.index.values, np.intersect1d(g.obs.index.values, cm.obs.index.values))\n",
    "\n",
    "ma = a.copy() # a[common][a[common].obs.sort_index().index].copy()\n",
    "mg = g.copy() # g[common][g[common].obs.sort_index().index].copy()\n",
    "mg_cm = cm.copy() # cm[common][cm[common].obs.sort_index().index].copy()"
   ]
  },
  {
   "cell_type": "code",
   "execution_count": 3,
   "id": "f873f907-71b9-4843-94a0-9b574bca77f5",
   "metadata": {
    "tags": []
   },
   "outputs": [],
   "source": [
    "# Barcodes\n",
    "mg.obs = mx_inspect_rows(mg.X.copy(), mg.obs.index.values)\n",
    "ma.obs = mx_inspect_rows(ma.X.copy(), ma.obs.index.values)\n",
    "mg_cm.obs = mx_inspect_rows(mg_cm.X.copy(), mg_cm.obs.index.values)\n",
    "\n",
    "# Features\n",
    "mg.var = mx_inspect_cols(mg.X.copy(), mg.var.index.values)\n",
    "ma.var = mx_inspect_cols(ma.X.copy(), ma.var.index.values)\n",
    "mg_cm.var = mx_inspect_cols(mg_cm.X.copy(), mg_cm.var.index.values)"
   ]
  },
  {
   "cell_type": "code",
   "execution_count": 4,
   "id": "b12b0645-dadd-40e6-9316-958fdd375b09",
   "metadata": {
    "tags": []
   },
   "outputs": [
    {
     "data": {
      "text/plain": [
       "0"
      ]
     },
     "execution_count": 4,
     "metadata": {},
     "output_type": "execute_result"
    }
   ],
   "source": [
    "# Make sure the barcodes are concordant between the umi counts and read counts\n",
    "(mg.obs.index.values != mg_cm.obs.index.values).sum()"
   ]
  },
  {
   "cell_type": "code",
   "execution_count": 7,
   "id": "1c6bea52-2041-424f-96e9-795698d81458",
   "metadata": {
    "tags": []
   },
   "outputs": [],
   "source": [
    "# Map the Cell Ranger Leiden clusters\n",
    "gdf = pd.read_csv(\"/home/sina/projects/atac/scATAK/data/10xPBMC/mome_x/download/analysis/clustering/gex/graphclust/clusters.csv\")\n",
    "adf = pd.read_csv(\"/home/sina/projects/atac/scATAK/data/10xPBMC/mome_x/download/analysis/clustering/atac/graphclust/clusters.csv\")\n",
    "\n",
    "gdf[\"bcs\"] = gdf[\"Barcode\"].apply(lambda x: x.split(\"-\")[0])\n",
    "gdf = gdf.set_index(\"bcs\")\n",
    "\n",
    "adf[\"bcs\"] = adf[\"Barcode\"].apply(lambda x: x.split(\"-\")[0])\n",
    "adf = adf.set_index(\"bcs\")"
   ]
  },
  {
   "cell_type": "code",
   "execution_count": 12,
   "id": "e79c642f-20c5-415e-bf0a-8d4e85c01c0f",
   "metadata": {
    "tags": []
   },
   "outputs": [],
   "source": [
    "mg.obs[\"cluster\"] = mg.obs.index.map(gdf[\"Cluster\"])\n",
    "mg.obs[\"custer\"] = mg.obs[\"cluster\"].fillna(-1).astype(int)\n",
    "\n",
    "ma.obs[\"cluster\"] = ma.obs.index.map(adf[\"Cluster\"])\n",
    "ma.obs[\"custer\"] = ma.obs[\"cluster\"].fillna(-1).astype(int)"
   ]
  },
  {
   "cell_type": "code",
   "execution_count": 24,
   "id": "012d32b8-a0b4-4b8e-8c7e-fde978986ef8",
   "metadata": {
    "tags": []
   },
   "outputs": [],
   "source": [
    "mg.obs = pd.concat([mg.obs, \n",
    "                    mg_cm.obs.rename(columns={\"counts_min\": \"reads_min\", \n",
    "                                               \"counts_max\": \"reads_max\",\n",
    "                                               \"counts_sum\": \"reads_sum\",\n",
    "                                               \"counts_mean\": \"reads_mean\",\n",
    "                                               \"counts_nnzero\": \"reads_nnzero\",\n",
    "                                               \"counts_variance\": \"reads_variance\"})], axis=1)\n",
    "\n",
    "mg.var = pd.concat([mg.var, \n",
    "                    mg_cm.var.rename(columns={\"counts_min\": \"reads_min\", \n",
    "                                               \"counts_max\": \"reads_max\",\n",
    "                                               \"counts_sum\": \"reads_sum\",\n",
    "                                               \"counts_mean\": \"reads_mean\",\n",
    "                                               \"counts_nnzero\": \"reads_nnzero\",\n",
    "                                               \"counts_variance\": \"reads_variance\"})], axis=1)"
   ]
  },
  {
   "cell_type": "code",
   "execution_count": 100,
   "id": "7e314bfe-a79a-4181-b4fc-a31fbb4c9aa0",
   "metadata": {
    "tags": []
   },
   "outputs": [],
   "source": [
    "mu = muon.MuData({\"gene\": mg, \"atac\": ma})"
   ]
  },
  {
   "cell_type": "code",
   "execution_count": 26,
   "id": "3eb42661-e055-43e3-96b6-1590cbc02ac3",
   "metadata": {
    "tags": []
   },
   "outputs": [],
   "source": [
    "mu.write_h5mu(\"/home/sina/projects/atac/scATAK/data/10xPBMC/mome_x/kb_peaks_subsam.h5mu\")"
   ]
  },
  {
   "cell_type": "markdown",
   "id": "7afb4e5c-7023-42a2-980c-49bf74eb995b",
   "metadata": {},
   "source": [
    "# Prep RNA (kb genes) and ATAC (scATAK peaks) Subsampled Matrices"
   ]
  },
  {
   "cell_type": "code",
   "execution_count": 94,
   "id": "e2995bc9-6afe-4bcc-9871-9f12d4b88754",
   "metadata": {
    "tags": []
   },
   "outputs": [],
   "source": [
    "gg = anndata.read_h5ad(\"/home/sina/projects/atac/scATAK/data/10xPBMC/rna_x/out_kb_genes_subsam/counts_nolist/adata.h5ad\") # standard 10xv3 whitelist\n",
    "aa = anndata.read_h5ad(\"/home/sina/projects/atac/scATAK/data/10xPBMC/atac_x/out_kb_peaks_subsam/counts_mult/adata.h5ad\")\n",
    "gg_cm = anndata.read_h5ad(\"/home/sina/projects/atac/scATAK/data/10xPBMC/rna_x/out_kb_genes_subsam/counts_mult/adata.h5ad\")"
   ]
  },
  {
   "cell_type": "code",
   "execution_count": 95,
   "id": "901421c7-63a6-4cac-b21d-427852cea6e1",
   "metadata": {
    "tags": []
   },
   "outputs": [
    {
     "data": {
      "text/plain": [
       "0"
      ]
     },
     "execution_count": 95,
     "metadata": {},
     "output_type": "execute_result"
    }
   ],
   "source": [
    "(gg_cm.obs.index.values != gg.obs.index.values).sum()"
   ]
  },
  {
   "cell_type": "code",
   "execution_count": 96,
   "id": "a59d3b0d-2e7c-4074-b368-5c8ec0520112",
   "metadata": {
    "tags": []
   },
   "outputs": [],
   "source": [
    "# Barcodes\n",
    "aa.obs = mx_inspect_rows(aa.X.copy(), aa.obs.index.values)\n",
    "gg.obs = mx_inspect_rows(gg.X.copy(), gg.obs.index.values)\n",
    "gg_cm.obs = mx_inspect_rows(gg_cm.X.copy(), gg_cm.obs.index.values)\n",
    "\n",
    "# Features\n",
    "aa.var = mx_inspect_cols(aa.X.copy(), aa.var.index.values)\n",
    "gg.var = mx_inspect_cols(gg.X.copy(), gg.var.index.values)\n",
    "gg_cm.var = mx_inspect_cols(gg_cm.X.copy(), gg_cm.var.index.values)"
   ]
  },
  {
   "cell_type": "code",
   "execution_count": 97,
   "id": "c76b667d-c11b-4474-b016-8892e2f5b738",
   "metadata": {
    "tags": []
   },
   "outputs": [],
   "source": [
    "gg.obs = pd.concat([gg.obs, \n",
    "                    gg_cm.obs.rename(columns={\"counts_min\": \"reads_min\", \n",
    "                                               \"counts_max\": \"reads_max\",\n",
    "                                               \"counts_sum\": \"reads_sum\",\n",
    "                                               \"counts_mean\": \"reads_mean\",\n",
    "                                               \"counts_nnzero\": \"reads_nnzero\",\n",
    "                                               \"counts_variance\": \"reads_variance\"})], axis=1)\n",
    "\n",
    "gg.var = pd.concat([gg.var, \n",
    "                    gg_cm.var.rename(columns={\"counts_min\": \"reads_min\", \n",
    "                                               \"counts_max\": \"reads_max\",\n",
    "                                               \"counts_sum\": \"reads_sum\",\n",
    "                                               \"counts_mean\": \"reads_mean\",\n",
    "                                               \"counts_nnzero\": \"reads_nnzero\",\n",
    "                                               \"counts_variance\": \"reads_variance\"})], axis=1)"
   ]
  },
  {
   "cell_type": "code",
   "execution_count": 98,
   "id": "47f19a3e-2411-4012-8581-78da2442278c",
   "metadata": {
    "tags": []
   },
   "outputs": [],
   "source": [
    "mu = muon.MuData({\"gene\": gg})\n",
    "mu.write_h5mu(\"/home/sina/projects/atac/scATAK/data/10xPBMC/rna_x/kb_genes_subsam.h5mu\")\n",
    "\n",
    "mu = muon.MuData({\"atac\": aa})\n",
    "mu.write_h5mu(\"/home/sina/projects/atac/scATAK/data/10xPBMC/atac_x/kb_genes_subsam.h5mu\")"
   ]
  },
  {
   "cell_type": "code",
   "execution_count": 27,
   "id": "a3fc65d3-70ca-43cb-b051-df1d9860e888",
   "metadata": {
    "tags": []
   },
   "outputs": [],
   "source": [
    "# gg.write_h5ad(\"/home/sina/projects/atac/scATAK/data/10xPBMC/rna_x/kb_genes_subsam.h5ad\")\n",
    "# aa.write_h5ad(\"/home/sina/projects/atac/scATAK/data/10xPBMC/atac_x/kb_peaks_subsam.h5ad\")"
   ]
  },
  {
   "cell_type": "markdown",
   "id": "978bedb1-ad35-457d-b18d-2f71b5ee1c16",
   "metadata": {},
   "source": [
    "# Prep kb peaks, cr gene quantification full reads"
   ]
  },
  {
   "cell_type": "code",
   "execution_count": null,
   "id": "d754c208-eef7-4172-a681-8a711c6ea6ed",
   "metadata": {},
   "outputs": [],
   "source": [
    "gene = {\n",
    "    \"input\": {\n",
    "        \"fastqs\" : [\n",
    "            \"\",\n",
    "            \"\",\n",
    "            \"\"\n",
    "        ],\n",
    "        \"onlist\": \"\",\n",
    "        \"index\": \"\",\n",
    "        \"t2g\": \"\",\n",
    "        \"seqspec\": \"\",\n",
    "    },\n",
    "    \"output\": {\n",
    "        \"matrix\": \"\",\n",
    "        \"barcodes\": \"\",\n",
    "        \"features\": \"\",\n",
    "        \"anndata\": \"\"\n",
    "    }\n",
    "}\n",
    "\n",
    "atac = {\n",
    "    \"input\": {\n",
    "        \"fastqs\" : [\n",
    "            \"\",\n",
    "            \"\",\n",
    "            \"\"\n",
    "        ],\n",
    "        \"onlist\": \"\",\n",
    "        \"index\": \"\",\n",
    "        \"t2g\": \"\",\n",
    "        \"seqspec\": \"\",\n",
    "        \"markers\": \"\"\n",
    "    },\n",
    "    \"output\": {\n",
    "        \"matrix_counts\": \"\",\n",
    "        \"barcodes_counts\": \"\",\n",
    "        \"genes_counts\": \"\",\n",
    "        \"matrix_reads\": \"\",\n",
    "        \"barcodes_reads\": \"\",\n",
    "        \"genes_reads\": \"\",\n",
    "        \"anndata_counts\": \"\",\n",
    "        \"anndata_reads\": \"\"\n",
    "    }\n",
    "}"
   ]
  },
  {
   "cell_type": "code",
   "execution_count": 72,
   "id": "f0eec6e4-e686-4e9a-9ad3-2c4cefad421f",
   "metadata": {
    "tags": []
   },
   "outputs": [],
   "source": [
    "a = anndata.read_h5ad(\"/home/sina/projects/atac/scATAK/data/10xPBMC/mome_x/out_kb_peaks/counts_mult/adata.h5ad\")\n",
    "g = anndata.read_h5ad(\"/home/sina/projects/atac/scATAK/data/10xPBMC/mome_x/out_cr_gene/counts_unfiltered/adata.h5ad\")\n",
    "cm = anndata.read_h5ad(\"/home/sina/projects/atac/scATAK/data/10xPBMC/mome_x/out_cr_gene/counts_mult/adata.h5ad\")\n",
    "\n",
    "# load whitelists\n",
    "awl = pd.read_csv(\"/home/sina/projects/atac/scATAK/references/onlists/10xMOME/ATA-737K-arc-v1_rc.txt\", header=None, names=[\"ata\"]) # 737K-arc-v1_rc.txt\n",
    "gwl = pd.read_csv(\"/home/sina/projects/atac/scATAK/references/onlists/10xMOME/RNA-737K-arc-v1.txt\", header=None, names=[\"rna\"]) # 10x_version3_whitelist.txt\n",
    "\n",
    "# Map BCs between MOME-RNA and MOME-ATAC\n",
    "bcmap = pd.concat([awl, gwl], axis=1).set_index(\"ata\")\n",
    "\n",
    "a.obs[\"ata_bcs\"] = a.obs.index.values\n",
    "a.obs[\"rna_bcs\"] = a.obs.index.map(bcmap[\"rna\"])\n",
    "a.obs.set_index(\"rna_bcs\", inplace=True)\n",
    "\n",
    "# common = np.intersect1d(a.obs.index.values, np.intersect1d(g.obs.index.values, cm.obs.index.values))\n",
    "common = np.intersect1d(g.obs.index.values, cm.obs.index.values)\n",
    "\n",
    "ma = a.copy() # a[common][a[common].obs.sort_index().index].copy()\n",
    "mg = g[common][g[common].obs.sort_index().index].copy()\n",
    "mg_cm = cm[common][cm[common].obs.sort_index().index].copy()"
   ]
  },
  {
   "cell_type": "code",
   "execution_count": 73,
   "id": "403f8c78-5cb5-446c-af2f-bea29f51015c",
   "metadata": {
    "tags": []
   },
   "outputs": [
    {
     "name": "stdout",
     "output_type": "stream",
     "text": [
      "(666440, 36601)\n",
      "(666440, 36601)\n"
     ]
    }
   ],
   "source": [
    "print(mg.shape, mg_cm.shape, sep=\"\\n\")"
   ]
  },
  {
   "cell_type": "code",
   "execution_count": 74,
   "id": "3271bf9b-11eb-4ad8-a4af-52e09f475ec0",
   "metadata": {
    "tags": []
   },
   "outputs": [],
   "source": [
    "# Barcodes\n",
    "mg.obs = mx_inspect_rows(mg.X.copy(), mg.obs.index.values)\n",
    "ma.obs = mx_inspect_rows(ma.X.copy(), ma.obs.index.values)\n",
    "mg_cm.obs = mx_inspect_rows(mg_cm.X.copy(), mg_cm.obs.index.values)\n",
    "\n",
    "# Features\n",
    "mg.var = mx_inspect_cols(mg.X.copy(), mg.var.index.values)\n",
    "ma.var = mx_inspect_cols(ma.X.copy(), ma.var.index.values)\n",
    "mg_cm.var = mx_inspect_cols(mg_cm.X.copy(), mg_cm.var.index.values)"
   ]
  },
  {
   "cell_type": "code",
   "execution_count": 75,
   "id": "c08076e5-d813-4b3f-8d29-0cb9f6a122bc",
   "metadata": {
    "tags": []
   },
   "outputs": [
    {
     "data": {
      "text/plain": [
       "0"
      ]
     },
     "execution_count": 75,
     "metadata": {},
     "output_type": "execute_result"
    }
   ],
   "source": [
    "(mg.obs.index.values != mg_cm.obs.index.values).sum()"
   ]
  },
  {
   "cell_type": "code",
   "execution_count": 76,
   "id": "ea82ec0a-3dde-48df-a42d-c094f663a608",
   "metadata": {
    "tags": []
   },
   "outputs": [],
   "source": [
    "# Map the Cell Ranger Leiden clusters\n",
    "gdf = pd.read_csv(\"/home/sina/projects/atac/scATAK/data/10xPBMC/mome_x/download/analysis/clustering/gex/graphclust/clusters.csv\")\n",
    "adf = pd.read_csv(\"/home/sina/projects/atac/scATAK/data/10xPBMC/mome_x/download/analysis/clustering/atac/graphclust/clusters.csv\")\n",
    "\n",
    "gdf[\"bcs\"] = gdf[\"Barcode\"].apply(lambda x: x.split(\"-\")[0])\n",
    "gdf = gdf.set_index(\"bcs\")\n",
    "\n",
    "adf[\"bcs\"] = adf[\"Barcode\"].apply(lambda x: x.split(\"-\")[0])\n",
    "adf = adf.set_index(\"bcs\")"
   ]
  },
  {
   "cell_type": "code",
   "execution_count": 77,
   "id": "e887f533-48ca-4c42-afbd-3a214e32f09c",
   "metadata": {
    "tags": []
   },
   "outputs": [],
   "source": [
    "mg.obs[\"cluster\"] = mg.obs.index.map(gdf[\"Cluster\"])\n",
    "mg.obs[\"custer\"] = mg.obs[\"cluster\"].fillna(-1).astype(int)\n",
    "\n",
    "ma.obs[\"cluster\"] = ma.obs.index.map(adf[\"Cluster\"])\n",
    "ma.obs[\"custer\"] = ma.obs[\"cluster\"].fillna(-1).astype(int)"
   ]
  },
  {
   "cell_type": "code",
   "execution_count": 78,
   "id": "dd34939e-504b-4ab4-917a-f9e851d72f7a",
   "metadata": {
    "tags": []
   },
   "outputs": [],
   "source": [
    "mg.obs = pd.concat([mg.obs, \n",
    "                    mg_cm.obs.rename(columns={\"counts_min\": \"reads_min\", \n",
    "                                               \"counts_max\": \"reads_max\",\n",
    "                                               \"counts_sum\": \"reads_sum\",\n",
    "                                               \"counts_mean\": \"reads_mean\",\n",
    "                                               \"counts_nnzero\": \"reads_nnzero\",\n",
    "                                               \"counts_variance\": \"reads_variance\"})], axis=1)\n",
    "\n",
    "mg.var = pd.concat([mg.var, \n",
    "                    mg_cm.var.rename(columns={\"counts_min\": \"reads_min\", \n",
    "                                               \"counts_max\": \"reads_max\",\n",
    "                                               \"counts_sum\": \"reads_sum\",\n",
    "                                               \"counts_mean\": \"reads_mean\",\n",
    "                                               \"counts_nnzero\": \"reads_nnzero\",\n",
    "                                               \"counts_variance\": \"reads_variance\"})], axis=1)"
   ]
  },
  {
   "cell_type": "code",
   "execution_count": 79,
   "id": "493cb053-2d88-4d68-aeb8-d982226325be",
   "metadata": {
    "tags": []
   },
   "outputs": [],
   "source": [
    "mu = muon.MuData({\"gene\": mg, \"atac\": ma})"
   ]
  },
  {
   "cell_type": "code",
   "execution_count": 80,
   "id": "93e5c482-8430-47cf-b2b6-a16a23ba76b2",
   "metadata": {
    "tags": []
   },
   "outputs": [],
   "source": [
    "mu.write_h5mu(\"/home/sina/projects/atac/scATAK/data/10xPBMC/mome_x/kb_peaks_cr_genes_kb_quant.h5mu\")"
   ]
  },
  {
   "cell_type": "code",
   "execution_count": 83,
   "id": "501f14f4-a317-4462-bc6d-2ae73479fb7e",
   "metadata": {
    "tags": []
   },
   "outputs": [],
   "source": [
    "cra = anndata.read_h5ad(\"/home/sina/projects/atac/scATAK/data/10xPBMC/mome_x/out_kb_peaks_cr_quant_subsam/outs/raw_feature_bc_matrix/peaks.h5ad\")\n",
    "crg = anndata.read_h5ad(\"/home/sina/projects/atac/scATAK/data/10xPBMC/mome_x/out_kb_peaks_cr_quant_subsam/outs/raw_feature_bc_matrix/genes.h5ad\")"
   ]
  },
  {
   "cell_type": "code",
   "execution_count": 87,
   "id": "1dcbb2fa-7367-45ca-aa4d-12ddafa8e008",
   "metadata": {
    "tags": []
   },
   "outputs": [],
   "source": [
    "# Barcodes\n",
    "crg.obs = mx_inspect_rows(crg.X.copy(), crg.obs.index.values)\n",
    "cra.obs = mx_inspect_rows(cra.X.copy(), cra.obs.index.values)\n",
    "\n",
    "# Features\n",
    "crg.var = mx_inspect_cols(crg.X.copy(), crg.var.index.values)\n",
    "cra.var = mx_inspect_cols(cra.X.copy(), cra.var.index.values)"
   ]
  },
  {
   "cell_type": "code",
   "execution_count": 88,
   "id": "3a702009-9948-4f4f-9616-aaf669d5277c",
   "metadata": {
    "tags": []
   },
   "outputs": [],
   "source": [
    "mu = muon.MuData({\"gene\": crg, \"atac\": cra})"
   ]
  },
  {
   "cell_type": "code",
   "execution_count": 89,
   "id": "4c364807-afef-4ef9-b105-250aef270cfc",
   "metadata": {
    "tags": []
   },
   "outputs": [],
   "source": [
    "mu.write_h5mu(\"/home/sina/projects/atac/scATAK/data/10xPBMC/mome_x/kb_peaks_cr_genes_cr_quant_subsam.h5mu\")"
   ]
  },
  {
   "cell_type": "markdown",
   "id": "2713985e-aea6-408f-abce-a42eafd6ac9f",
   "metadata": {},
   "source": [
    "# Prep cr peaks, cr gene quantification full reads"
   ]
  },
  {
   "cell_type": "code",
   "execution_count": null,
   "id": "43a86b6d-e541-4002-90d7-2240704bf36f",
   "metadata": {},
   "outputs": [],
   "source": [
    "gene = {\n",
    "    \"input\": {\n",
    "        \"fastqs\" : [\n",
    "            \"\",\n",
    "            \"\",\n",
    "            \"\"\n",
    "        ],\n",
    "        \"onlist\": \"\",\n",
    "        \"index\": \"\",\n",
    "        \"t2g\": \"\",\n",
    "        \"seqspec\": \"\",\n",
    "    },\n",
    "    \"output\": {\n",
    "        \"matrix\": \"\",\n",
    "        \"barcodes\": \"\",\n",
    "        \"features\": \"\",\n",
    "        \"anndata\": \"\"\n",
    "    }\n",
    "}\n",
    "\n",
    "atac = {\n",
    "    \"input\": {\n",
    "        \"fastqs\" : [\n",
    "            \"\",\n",
    "            \"\",\n",
    "            \"\"\n",
    "        ],\n",
    "        \"onlist\": \"\",\n",
    "        \"index\": \"\",\n",
    "        \"t2g\": \"\",\n",
    "        \"seqspec\": \"\",\n",
    "    },\n",
    "    \"output\": {\n",
    "        \"matrix_counts\": \"\",\n",
    "        \"barcodes_counts\": \"\",\n",
    "        \"genes_counts\": \"\",\n",
    "        \"matrix_reads\": \"\",\n",
    "        \"barcodes_reads\": \"\",\n",
    "        \"genes_reads\": \"\",\n",
    "        \"anndata_counts\": \"\",\n",
    "        \"anndata_reads\": \"\"\n",
    "    }\n",
    "}"
   ]
  },
  {
   "cell_type": "code",
   "execution_count": 12,
   "id": "313bc3a1-70ae-4d76-9474-688a779607dd",
   "metadata": {
    "tags": []
   },
   "outputs": [],
   "source": [
    "a  = anndata.read_h5ad(\"/home/sina/projects/atac/scATAK/data/10xPBMC/mome_x/out_time_atac/counts_mult/adata.h5ad\")\n",
    "g  = anndata.read_h5ad(\"/home/sina/projects/atac/scATAK/data/10xPBMC/mome_x/out_time_gene/counts_unfiltered/adata.h5ad\")\n",
    "cm = anndata.read_h5ad(\"/home/sina/projects/atac/scATAK/data/10xPBMC/mome_x/out_time_gene/counts_mult/adata.h5ad\")\n",
    "\n",
    "# load whitelists\n",
    "awl = pd.read_csv(\"/home/sina/projects/atac/scATAK/references/onlists/10xMOME/ATA-737K-arc-v1_rc.txt\", header=None, names=[\"ata\"]) # 737K-arc-v1_rc.txt\n",
    "gwl = pd.read_csv(\"/home/sina/projects/atac/scATAK/references/onlists/10xMOME/RNA-737K-arc-v1.txt\", header=None, names=[\"rna\"]) # 10x_version3_whitelist.txt\n",
    "\n",
    "# Map BCs between MOME-RNA and MOME-ATAC\n",
    "bcmap = pd.concat([awl, gwl], axis=1).set_index(\"ata\")\n",
    "\n",
    "a.obs[\"ata_bcs\"] = a.obs.index.values\n",
    "a.obs[\"rna_bcs\"] = a.obs.index.map(bcmap[\"rna\"])\n",
    "a.obs.set_index(\"rna_bcs\", inplace=True)\n",
    "\n",
    "# common = np.intersect1d(a.obs.index.values, np.intersect1d(g.obs.index.values, cm.obs.index.values))\n",
    "common = np.intersect1d(g.obs.index.values, cm.obs.index.values)\n",
    "\n",
    "ma = a.copy() # a[common][a[common].obs.sort_index().index].copy()\n",
    "mg = g[common][g[common].obs.sort_index().index].copy()\n",
    "mg_cm = cm[common][cm[common].obs.sort_index().index].copy()"
   ]
  },
  {
   "cell_type": "code",
   "execution_count": 13,
   "id": "ddfadf47-806d-4e1e-898d-97d494ab244a",
   "metadata": {
    "tags": []
   },
   "outputs": [
    {
     "name": "stdout",
     "output_type": "stream",
     "text": [
      "(666440, 36601)\n",
      "(666440, 36601)\n"
     ]
    }
   ],
   "source": [
    "print(mg.shape, mg_cm.shape, sep=\"\\n\")"
   ]
  },
  {
   "cell_type": "code",
   "execution_count": 14,
   "id": "80930917-6b89-4c2c-af0b-10aa870bda20",
   "metadata": {
    "tags": []
   },
   "outputs": [],
   "source": [
    "# Barcodes\n",
    "mg.obs = mx_inspect_rows(mg.X.copy(), mg.obs.index.values)\n",
    "ma.obs = mx_inspect_rows(ma.X.copy(), ma.obs.index.values)\n",
    "mg_cm.obs = mx_inspect_rows(mg_cm.X.copy(), mg_cm.obs.index.values)\n",
    "\n",
    "# Features\n",
    "mg.var = mx_inspect_cols(mg.X.copy(), mg.var.index.values)\n",
    "ma.var = mx_inspect_cols(ma.X.copy(), ma.var.index.values)\n",
    "mg_cm.var = mx_inspect_cols(mg_cm.X.copy(), mg_cm.var.index.values)"
   ]
  },
  {
   "cell_type": "code",
   "execution_count": 15,
   "id": "1c5deec5-4f4c-4216-a3b4-27968b04f820",
   "metadata": {
    "tags": []
   },
   "outputs": [
    {
     "data": {
      "text/plain": [
       "0"
      ]
     },
     "execution_count": 15,
     "metadata": {},
     "output_type": "execute_result"
    }
   ],
   "source": [
    "(mg.obs.index.values != mg_cm.obs.index.values).sum()"
   ]
  },
  {
   "cell_type": "code",
   "execution_count": 16,
   "id": "2ec2f06f-d785-476f-853f-9ce61eadb578",
   "metadata": {
    "tags": []
   },
   "outputs": [],
   "source": [
    "# Map the Cell Ranger Leiden clusters\n",
    "gdf = pd.read_csv(\"/home/sina/projects/atac/scATAK/data/10xPBMC/mome_x/download/analysis/clustering/gex/graphclust/clusters.csv\")\n",
    "adf = pd.read_csv(\"/home/sina/projects/atac/scATAK/data/10xPBMC/mome_x/download/analysis/clustering/atac/graphclust/clusters.csv\")\n",
    "\n",
    "gdf[\"bcs\"] = gdf[\"Barcode\"].apply(lambda x: x.split(\"-\")[0])\n",
    "gdf = gdf.set_index(\"bcs\")\n",
    "\n",
    "adf[\"bcs\"] = adf[\"Barcode\"].apply(lambda x: x.split(\"-\")[0])\n",
    "adf = adf.set_index(\"bcs\")"
   ]
  },
  {
   "cell_type": "code",
   "execution_count": 17,
   "id": "988da57a-04de-4714-865e-2d89eccfc33c",
   "metadata": {
    "tags": []
   },
   "outputs": [],
   "source": [
    "mg.obs[\"cluster\"] = mg.obs.index.map(gdf[\"Cluster\"])\n",
    "mg.obs[\"custer\"] = mg.obs[\"cluster\"].fillna(-1).astype(int)\n",
    "\n",
    "ma.obs[\"cluster\"] = ma.obs.index.map(adf[\"Cluster\"])\n",
    "ma.obs[\"custer\"] = ma.obs[\"cluster\"].fillna(-1).astype(int)"
   ]
  },
  {
   "cell_type": "code",
   "execution_count": 18,
   "id": "dede89e9-bc2b-4c07-a06d-ef92326c8aa4",
   "metadata": {
    "tags": []
   },
   "outputs": [],
   "source": [
    "mg.obs = pd.concat([mg.obs, \n",
    "                    mg_cm.obs.rename(columns={\"counts_min\": \"reads_min\", \n",
    "                                               \"counts_max\": \"reads_max\",\n",
    "                                               \"counts_sum\": \"reads_sum\",\n",
    "                                               \"counts_mean\": \"reads_mean\",\n",
    "                                               \"counts_nnzero\": \"reads_nnzero\",\n",
    "                                               \"counts_variance\": \"reads_variance\"})], axis=1)\n",
    "\n",
    "mg.var = pd.concat([mg.var, \n",
    "                    mg_cm.var.rename(columns={\"counts_min\": \"reads_min\", \n",
    "                                               \"counts_max\": \"reads_max\",\n",
    "                                               \"counts_sum\": \"reads_sum\",\n",
    "                                               \"counts_mean\": \"reads_mean\",\n",
    "                                               \"counts_nnzero\": \"reads_nnzero\",\n",
    "                                               \"counts_variance\": \"reads_variance\"})], axis=1)"
   ]
  },
  {
   "cell_type": "code",
   "execution_count": 19,
   "id": "9b880579-ad6d-4a54-a0b5-756ee86e8ba2",
   "metadata": {
    "tags": []
   },
   "outputs": [],
   "source": [
    "mu = muon.MuData({\"gene\": mg, \"atac\": ma})"
   ]
  },
  {
   "cell_type": "code",
   "execution_count": 21,
   "id": "bb883ef7-d2f3-49a3-895e-8442599655a7",
   "metadata": {
    "tags": []
   },
   "outputs": [
    {
     "data": {
      "text/html": [
       "<pre>MuData object with n_obs × n_vars = 726767 × 148344\n",
       "  var:\t&#x27;counts_min&#x27;, &#x27;counts_max&#x27;, &#x27;counts_sum&#x27;, &#x27;counts_mean&#x27;, &#x27;counts_nnzero&#x27;, &#x27;counts_variance&#x27;\n",
       "  2 modalities\n",
       "    gene:\t666440 x 36601\n",
       "      obs:\t&#x27;counts_min&#x27;, &#x27;counts_max&#x27;, &#x27;counts_sum&#x27;, &#x27;counts_mean&#x27;, &#x27;counts_nnzero&#x27;, &#x27;counts_variance&#x27;, &#x27;cluster&#x27;, &#x27;custer&#x27;, &#x27;reads_min&#x27;, &#x27;reads_max&#x27;, &#x27;reads_sum&#x27;, &#x27;reads_mean&#x27;, &#x27;reads_nnzero&#x27;, &#x27;reads_variance&#x27;\n",
       "      var:\t&#x27;counts_min&#x27;, &#x27;counts_max&#x27;, &#x27;counts_sum&#x27;, &#x27;counts_mean&#x27;, &#x27;counts_nnzero&#x27;, &#x27;counts_variance&#x27;, &#x27;reads_min&#x27;, &#x27;reads_max&#x27;, &#x27;reads_sum&#x27;, &#x27;reads_mean&#x27;, &#x27;reads_nnzero&#x27;, &#x27;reads_variance&#x27;\n",
       "    atac:\t647812 x 111743\n",
       "      obs:\t&#x27;counts_min&#x27;, &#x27;counts_max&#x27;, &#x27;counts_sum&#x27;, &#x27;counts_mean&#x27;, &#x27;counts_nnzero&#x27;, &#x27;counts_variance&#x27;, &#x27;cluster&#x27;, &#x27;custer&#x27;\n",
       "      var:\t&#x27;counts_min&#x27;, &#x27;counts_max&#x27;, &#x27;counts_sum&#x27;, &#x27;counts_mean&#x27;, &#x27;counts_nnzero&#x27;, &#x27;counts_variance&#x27;</pre>"
      ],
      "text/plain": [
       "MuData object with n_obs × n_vars = 726767 × 148344\n",
       "  var:\t'counts_min', 'counts_max', 'counts_sum', 'counts_mean', 'counts_nnzero', 'counts_variance'\n",
       "  2 modalities\n",
       "    gene:\t666440 x 36601\n",
       "      obs:\t'counts_min', 'counts_max', 'counts_sum', 'counts_mean', 'counts_nnzero', 'counts_variance', 'cluster', 'custer', 'reads_min', 'reads_max', 'reads_sum', 'reads_mean', 'reads_nnzero', 'reads_variance'\n",
       "      var:\t'counts_min', 'counts_max', 'counts_sum', 'counts_mean', 'counts_nnzero', 'counts_variance', 'reads_min', 'reads_max', 'reads_sum', 'reads_mean', 'reads_nnzero', 'reads_variance'\n",
       "    atac:\t647812 x 111743\n",
       "      obs:\t'counts_min', 'counts_max', 'counts_sum', 'counts_mean', 'counts_nnzero', 'counts_variance', 'cluster', 'custer'\n",
       "      var:\t'counts_min', 'counts_max', 'counts_sum', 'counts_mean', 'counts_nnzero', 'counts_variance'"
      ]
     },
     "execution_count": 21,
     "metadata": {},
     "output_type": "execute_result"
    }
   ],
   "source": [
    "mu"
   ]
  },
  {
   "cell_type": "code",
   "execution_count": 20,
   "id": "28152170-3961-4ed9-bb77-a9aad9ad429b",
   "metadata": {
    "tags": []
   },
   "outputs": [],
   "source": [
    "mu.write_h5mu(\"/home/sina/projects/atac/scATAK/data/10xPBMC/mome_x/cr_peaks_cr_genes_kb_quant.h5mu\")"
   ]
  },
  {
   "cell_type": "code",
   "execution_count": 22,
   "id": "834cce66-8fea-4ae0-8a2c-d6ad2bb26e8d",
   "metadata": {
    "tags": []
   },
   "outputs": [],
   "source": [
    "cra = anndata.read_h5ad(\"/home/sina/projects/atac/scATAK/data/10xPBMC/mome_x/cr/outs/raw_feature_bc_matrix/peaks.h5ad\")\n",
    "crg = anndata.read_h5ad(\"/home/sina/projects/atac/scATAK/data/10xPBMC/mome_x/cr/outs/raw_feature_bc_matrix/genes.h5ad\")"
   ]
  },
  {
   "cell_type": "code",
   "execution_count": 23,
   "id": "3e7ac9e9-f1b9-4714-867e-3359aebf8b1b",
   "metadata": {
    "tags": []
   },
   "outputs": [],
   "source": [
    "# Barcodes\n",
    "crg.obs = mx_inspect_rows(crg.X.copy(), crg.obs.index.values)\n",
    "cra.obs = mx_inspect_rows(cra.X.copy(), cra.obs.index.values)\n",
    "\n",
    "# Features\n",
    "crg.var = mx_inspect_cols(crg.X.copy(), crg.var.index.values)\n",
    "cra.var = mx_inspect_cols(cra.X.copy(), cra.var.index.values)"
   ]
  },
  {
   "cell_type": "code",
   "execution_count": 24,
   "id": "6abaf1d1-6c04-4d72-95fd-9341286c4414",
   "metadata": {
    "tags": []
   },
   "outputs": [],
   "source": [
    "mu = muon.MuData({\"gene\": crg, \"atac\": cra})"
   ]
  },
  {
   "cell_type": "code",
   "execution_count": 25,
   "id": "f0099362-d533-4a3f-a5ad-16385da0cfd5",
   "metadata": {
    "tags": []
   },
   "outputs": [],
   "source": [
    "mu.write_h5mu(\"/home/sina/projects/atac/scATAK/data/10xPBMC/mome_x/cr_peaks_cr_genes_cr_quant.h5mu\")"
   ]
  },
  {
   "cell_type": "markdown",
   "id": "cb6b57ec-7883-4034-93f4-86a27c66b5fe",
   "metadata": {},
   "source": [
    "# SHARE-Seqv2-HGMM"
   ]
  },
  {
   "cell_type": "code",
   "execution_count": 105,
   "id": "325ee327-2a12-4567-a176-fb8ceb599db1",
   "metadata": {
    "tags": []
   },
   "outputs": [],
   "source": [
    "ma = anndata.read_h5ad(\"/home/sina/projects/atac/scATAK/data/shareseqv2/hgmm/out_atac/counts_mult/adata.h5ad\")\n",
    "mg = anndata.read_h5ad(\"/home/sina/projects/atac/scATAK/data/shareseqv2/hgmm/out_gene/counts_unfiltered/adata.h5ad\")\n",
    "mg_cm = anndata.read_h5ad(\"/home/sina/projects/atac/scATAK/data/shareseqv2/hgmm/out_gene/counts_mult/adata.h5ad\")"
   ]
  },
  {
   "cell_type": "code",
   "execution_count": 106,
   "id": "64010c3d-7196-400f-9e4c-d19f41e21727",
   "metadata": {
    "tags": []
   },
   "outputs": [
    {
     "name": "stdout",
     "output_type": "stream",
     "text": [
      "(1406878, 81923)\n",
      "(564394, 117674)\n",
      "(564394, 117674)\n"
     ]
    }
   ],
   "source": [
    "print(\n",
    "    ma.shape,\n",
    "    mg.shape,\n",
    "    mg_cm.shape,\n",
    "    sep=\"\\n\"\n",
    ")"
   ]
  },
  {
   "cell_type": "code",
   "execution_count": 107,
   "id": "e8bd4e8d-3df5-4436-8b3c-5fc003bfba6b",
   "metadata": {
    "tags": []
   },
   "outputs": [],
   "source": [
    "ma.obs = mx_inspect_rows(ma.X.copy(), ma.obs.index.values)\n",
    "ma.var = mx_inspect_cols(ma.X.copy(), ma.var.index.values)\n",
    "mg.obs = mx_inspect_rows(mg.X.copy(), mg.obs.index.values)\n",
    "mg.var = mx_inspect_cols(mg.X.copy(), mg.var.index.values)\n",
    "mg_cm.obs = mx_inspect_rows(mg_cm.X.copy(), mg_cm.obs.index.values)\n",
    "mg_cm.var = mx_inspect_cols(mg_cm.X.copy(), mg_cm.var.index.values)"
   ]
  },
  {
   "cell_type": "code",
   "execution_count": 111,
   "id": "602ec21d-c533-4966-98af-bbdabfaf0347",
   "metadata": {
    "tags": []
   },
   "outputs": [],
   "source": [
    "df_a_hg = mx_inspect_rows(ma.X[:,ma.var.index.str.contains(\"human_\")].copy(), ma.obs.index.values)\n",
    "df_a_mm = mx_inspect_rows(ma.X[:,ma.var.index.str.contains(\"mouse_\")].copy(), ma.obs.index.values)\n",
    "\n",
    "df_a_hg = df_a_hg.add_prefix('human_')\n",
    "df_a_mm = df_a_mm.add_prefix('mouse_')"
   ]
  },
  {
   "cell_type": "code",
   "execution_count": 115,
   "id": "58d47a00-abd7-4f48-818a-5e46754bb4a2",
   "metadata": {
    "tags": []
   },
   "outputs": [],
   "source": [
    "ma.obs = pd.concat([ma.obs.add_prefix(\"total_\"), df_a_hg, df_a_mm], axis=1)"
   ]
  },
  {
   "cell_type": "code",
   "execution_count": 112,
   "id": "2c744dee-4689-4f7e-b5da-0737f37387a8",
   "metadata": {
    "tags": []
   },
   "outputs": [],
   "source": [
    "df_g_hg = mx_inspect_rows(mg.X[:,mg.var.index.str.contains(\"ENSG\")].copy(), mg.obs.index.values)\n",
    "df_g_mm = mx_inspect_rows(mg.X[:,mg.var.index.str.contains(\"ENSMUS\")].copy(), mg.obs.index.values)\n",
    "\n",
    "df_g_hg = df_g_hg.add_prefix('human_')\n",
    "df_g_mm = df_g_mm.add_prefix('mouse_')"
   ]
  },
  {
   "cell_type": "code",
   "execution_count": 116,
   "id": "0dbaadc2-5f78-4422-9bcb-f69fede3992d",
   "metadata": {
    "tags": []
   },
   "outputs": [],
   "source": [
    "mg.obs = pd.concat([mg.obs.add_prefix(\"total_\"), df_g_hg, df_g_mm], axis=1)"
   ]
  },
  {
   "cell_type": "code",
   "execution_count": 117,
   "id": "040f8699-343b-49d0-8f32-06a148debb2a",
   "metadata": {
    "tags": []
   },
   "outputs": [],
   "source": [
    "rnm = {\n",
    "    \"counts_min\": \"reads_min\", \n",
    "    \"counts_max\": \"reads_max\",\n",
    "    \"counts_sum\": \"reads_sum\",\n",
    "    \"counts_mean\": \"reads_mean\",\n",
    "    \"counts_nnzero\": \"reads_nnzero\",\n",
    "    \"counts_variance\": \"reads_variance\"\n",
    "}"
   ]
  },
  {
   "cell_type": "code",
   "execution_count": 118,
   "id": "01989bb2-10a7-4fe6-b7d7-79bd3e313a8d",
   "metadata": {
    "tags": []
   },
   "outputs": [],
   "source": [
    "df_cm_hg = mx_inspect_rows(mg_cm.X[:,mg_cm.var.index.str.contains(\"ENSG\")].copy(), mg_cm.obs.index.values)\n",
    "df_cm_mm = mx_inspect_rows(mg_cm.X[:,mg_cm.var.index.str.contains(\"ENSMUS\")].copy(), mg_cm.obs.index.values)\n",
    "\n",
    "df_cm_hg = df_cm_hg.rename(columns=rnm).add_prefix('human_')\n",
    "df_cm_mm = df_cm_mm.rename(columns=rnm).add_prefix('mouse_')"
   ]
  },
  {
   "cell_type": "code",
   "execution_count": 120,
   "id": "37fd7dfe-6a8c-4990-afd1-e494dfefb634",
   "metadata": {
    "tags": []
   },
   "outputs": [],
   "source": [
    "mg_cm.obs = pd.concat([mg_cm.obs.rename(columns=rnm).add_prefix(\"total_\"), df_cm_hg, df_cm_mm], axis=1)"
   ]
  },
  {
   "cell_type": "code",
   "execution_count": 121,
   "id": "85ce21c1-8871-4476-b1b4-0551069d6e68",
   "metadata": {
    "tags": []
   },
   "outputs": [],
   "source": [
    "mg.obs = pd.concat([mg.obs, mg_cm.obs], axis=1)\n",
    "mg.var = pd.concat([mg.var, mg_cm.var.rename(columns=rnm)], axis=1)"
   ]
  },
  {
   "cell_type": "code",
   "execution_count": 123,
   "id": "eddee121-e174-401c-9870-3977cd8bbe03",
   "metadata": {
    "tags": []
   },
   "outputs": [],
   "source": [
    "mu = muon.MuData({\"gene\": mg, \"atac\": ma})"
   ]
  },
  {
   "cell_type": "code",
   "execution_count": 127,
   "id": "285af031-1259-4d74-aef3-0f957d040135",
   "metadata": {
    "tags": []
   },
   "outputs": [],
   "source": [
    "mu.write_h5mu(\"/home/sina/projects/atac/scATAK/data/shareseqv2/hgmm/mu.h5mu\")"
   ]
  },
  {
   "cell_type": "markdown",
   "id": "960f4eff-2306-4e8f-8d66-7b465ebdac5f",
   "metadata": {},
   "source": [
    "# ISSAAC-Seq HGMM"
   ]
  },
  {
   "cell_type": "code",
   "execution_count": 131,
   "id": "ac1c3f12-f0a4-4ef1-aaac-d3e7a37886ba",
   "metadata": {
    "tags": []
   },
   "outputs": [],
   "source": [
    "ma = anndata.read_h5ad(\"/home/sina/projects/atac/scATAK/data/issaacseq/hgmm/out_atac_subsam/counts_mult/adata.h5ad\")\n",
    "mg = anndata.read_h5ad(\"/home/sina/projects/atac/scATAK/data/issaacseq/hgmm/out_gene_subsam/counts_unfiltered/adata.h5ad\")\n",
    "mg_cm = anndata.read_h5ad(\"/home/sina/projects/atac/scATAK/data/issaacseq/hgmm/out_gene_subsam/counts_mult/adata.h5ad\")"
   ]
  },
  {
   "cell_type": "code",
   "execution_count": 132,
   "id": "a7047ae4-2927-4a5e-8590-407f36aeeb31",
   "metadata": {
    "tags": []
   },
   "outputs": [
    {
     "name": "stdout",
     "output_type": "stream",
     "text": [
      "(243474, 160977)\n",
      "(178832, 117674)\n",
      "(178832, 117674)\n"
     ]
    }
   ],
   "source": [
    "print(\n",
    "    ma.shape,\n",
    "    mg.shape,\n",
    "    mg_cm.shape,\n",
    "    sep=\"\\n\"\n",
    ")"
   ]
  },
  {
   "cell_type": "code",
   "execution_count": 133,
   "id": "ab93cbc7-c5bd-44cc-98c7-6a1e4868e55f",
   "metadata": {
    "tags": []
   },
   "outputs": [],
   "source": [
    "ma.obs = mx_inspect_rows(ma.X.copy(), ma.obs.index.values)\n",
    "ma.var = mx_inspect_cols(ma.X.copy(), ma.var.index.values)\n",
    "mg.obs = mx_inspect_rows(mg.X.copy(), mg.obs.index.values)\n",
    "mg.var = mx_inspect_cols(mg.X.copy(), mg.var.index.values)\n",
    "mg_cm.obs = mx_inspect_rows(mg_cm.X.copy(), mg_cm.obs.index.values)\n",
    "mg_cm.var = mx_inspect_cols(mg_cm.X.copy(), mg_cm.var.index.values)"
   ]
  },
  {
   "cell_type": "code",
   "execution_count": 134,
   "id": "509f6d92-1988-4ce5-9eeb-9989ff91b872",
   "metadata": {
    "tags": []
   },
   "outputs": [],
   "source": [
    "df_a_hg = mx_inspect_rows(ma.X[:,ma.var.index.str.contains(\"human_\")].copy(), ma.obs.index.values)\n",
    "df_a_mm = mx_inspect_rows(ma.X[:,ma.var.index.str.contains(\"mouse_\")].copy(), ma.obs.index.values)\n",
    "\n",
    "df_a_hg = df_a_hg.add_prefix('human_')\n",
    "df_a_mm = df_a_mm.add_prefix('mouse_')"
   ]
  },
  {
   "cell_type": "code",
   "execution_count": 135,
   "id": "ac4ab7ae-a3ba-4a45-8bb8-277397bb56ae",
   "metadata": {
    "tags": []
   },
   "outputs": [],
   "source": [
    "ma.obs = pd.concat([ma.obs.add_prefix(\"total_\"), df_a_hg, df_a_mm], axis=1)"
   ]
  },
  {
   "cell_type": "code",
   "execution_count": 136,
   "id": "fc3f8e3e-f793-4e31-820b-49f9ae549793",
   "metadata": {
    "tags": []
   },
   "outputs": [],
   "source": [
    "df_g_hg = mx_inspect_rows(mg.X[:,mg.var.index.str.contains(\"ENSG\")].copy(), mg.obs.index.values)\n",
    "df_g_mm = mx_inspect_rows(mg.X[:,mg.var.index.str.contains(\"ENSMUS\")].copy(), mg.obs.index.values)\n",
    "\n",
    "df_g_hg = df_g_hg.add_prefix('human_')\n",
    "df_g_mm = df_g_mm.add_prefix('mouse_')"
   ]
  },
  {
   "cell_type": "code",
   "execution_count": 137,
   "id": "4734461e-aa3e-48e6-b48d-55d9aa3c89f6",
   "metadata": {
    "tags": []
   },
   "outputs": [],
   "source": [
    "mg.obs = pd.concat([mg.obs.add_prefix(\"total_\"), df_g_hg, df_g_mm], axis=1)"
   ]
  },
  {
   "cell_type": "code",
   "execution_count": 138,
   "id": "82b18d85-74b2-45b7-bb3f-f3b1daa7cfd0",
   "metadata": {
    "tags": []
   },
   "outputs": [],
   "source": [
    "rnm = {\n",
    "    \"counts_min\": \"reads_min\", \n",
    "    \"counts_max\": \"reads_max\",\n",
    "    \"counts_sum\": \"reads_sum\",\n",
    "    \"counts_mean\": \"reads_mean\",\n",
    "    \"counts_nnzero\": \"reads_nnzero\",\n",
    "    \"counts_variance\": \"reads_variance\"\n",
    "}"
   ]
  },
  {
   "cell_type": "code",
   "execution_count": 139,
   "id": "40c88369-31e2-47ca-a186-2effb293b86e",
   "metadata": {
    "tags": []
   },
   "outputs": [],
   "source": [
    "df_cm_hg = mx_inspect_rows(mg_cm.X[:,mg_cm.var.index.str.contains(\"ENSG\")].copy(), mg_cm.obs.index.values)\n",
    "df_cm_mm = mx_inspect_rows(mg_cm.X[:,mg_cm.var.index.str.contains(\"ENSMUS\")].copy(), mg_cm.obs.index.values)\n",
    "\n",
    "df_cm_hg = df_cm_hg.rename(columns=rnm).add_prefix('human_')\n",
    "df_cm_mm = df_cm_mm.rename(columns=rnm).add_prefix('mouse_')"
   ]
  },
  {
   "cell_type": "code",
   "execution_count": 140,
   "id": "bff10f55-2c74-4cea-80fc-3000358881c6",
   "metadata": {
    "tags": []
   },
   "outputs": [],
   "source": [
    "mg_cm.obs = pd.concat([mg_cm.obs.rename(columns=rnm).add_prefix(\"total_\"), df_cm_hg, df_cm_mm], axis=1)"
   ]
  },
  {
   "cell_type": "code",
   "execution_count": 141,
   "id": "2b669a5b-be0b-44d5-b945-d0bdec121fc5",
   "metadata": {
    "tags": []
   },
   "outputs": [],
   "source": [
    "mg.obs = pd.concat([mg.obs, mg_cm.obs], axis=1)\n",
    "mg.var = pd.concat([mg.var, mg_cm.var.rename(columns=rnm)], axis=1)"
   ]
  },
  {
   "cell_type": "code",
   "execution_count": 142,
   "id": "f7441891-8ede-438f-af61-ecf0d394631d",
   "metadata": {
    "tags": []
   },
   "outputs": [],
   "source": [
    "mu = muon.MuData({\"gene\": mg, \"atac\": ma})"
   ]
  },
  {
   "cell_type": "code",
   "execution_count": 143,
   "id": "5ba6c00a-5b9f-48bb-8e4a-70919418e374",
   "metadata": {
    "tags": []
   },
   "outputs": [],
   "source": [
    "mu.write_h5mu(\"/home/sina/projects/atac/scATAK/data/issaacseq/hgmm/mu.h5mu\")"
   ]
  },
  {
   "cell_type": "markdown",
   "id": "a9143226-3ee0-43f8-8de0-3d7a3c450260",
   "metadata": {},
   "source": [
    "# Spatial"
   ]
  },
  {
   "cell_type": "code",
   "execution_count": 7,
   "id": "f35bd85a-855f-4a6a-94ee-74fdfac78e46",
   "metadata": {
    "tags": []
   },
   "outputs": [],
   "source": [
    "adata = anndata.read_h5ad(\"/home/sina/projects/atac/scATAK/data/spatial/out_kb_peaks/counts_mult/adata.h5ad\")\n",
    "adata.obs = mx_inspect_rows(adata.X.copy(), adata.obs.index.values)\n",
    "adata.var = mx_inspect_cols(adata.X.copy(), adata.var.index.values)"
   ]
  },
  {
   "cell_type": "code",
   "execution_count": 8,
   "id": "8116ecad-d47e-4b9a-80b6-d96ee4da5164",
   "metadata": {
    "tags": []
   },
   "outputs": [],
   "source": [
    "bcs = pd.read_csv(\n",
    "    \"/home/sina/projects/atac/scATAK/data/spatial/spatial_barcodes.txt\", \n",
    "    header=None, names=[\"bcs\", \"row\", \"col\"], index_col=0, sep=\"\\t\"\n",
    ")"
   ]
  },
  {
   "cell_type": "code",
   "execution_count": 9,
   "id": "bfba563d-166a-4e95-a6d2-aaaf481f0ae7",
   "metadata": {
    "tags": []
   },
   "outputs": [],
   "source": [
    "adata.obs[\"row\"] = adata.obs.index.map(bcs[\"row\"]).values\n",
    "adata.obs[\"col\"] = adata.obs.index.map(bcs[\"col\"]).values"
   ]
  },
  {
   "cell_type": "code",
   "execution_count": 10,
   "id": "0ee802b4-6e72-404b-8f97-06b791a90d5f",
   "metadata": {
    "tags": []
   },
   "outputs": [],
   "source": [
    "mu = muon.MuData({\"atac\": adata,})"
   ]
  },
  {
   "cell_type": "code",
   "execution_count": 11,
   "id": "9313f333-a024-4f41-a380-462a87ff766f",
   "metadata": {
    "tags": []
   },
   "outputs": [],
   "source": [
    "mu.write_h5mu(\"/home/sina/projects/atac/scATAK/data/spatial/spatial.h5mu\")"
   ]
  },
  {
   "cell_type": "markdown",
   "id": "b342acb3-44da-451d-b936-fb1fbb42710c",
   "metadata": {},
   "source": [
    "# SHARE-Seq BMMC"
   ]
  },
  {
   "cell_type": "code",
   "execution_count": 151,
   "id": "46ad1818-135a-4c05-9ac2-153e30120f77",
   "metadata": {
    "tags": []
   },
   "outputs": [],
   "source": [
    "ma = anndata.read_h5ad(\"/home/sina/projects/atac/scATAK/data/shareseqv2/bmmc/out_atac/counts_mult/adata.h5ad\")\n",
    "mg = anndata.read_h5ad(\"/home/sina/projects/atac/scATAK/data/shareseqv2/bmmc/out_gene_subsam/counts_unfiltered/adata.h5ad\")"
   ]
  },
  {
   "cell_type": "code",
   "execution_count": 155,
   "id": "f78929bc-8ce9-4b2c-bc79-de36cc1d3bd3",
   "metadata": {
    "tags": []
   },
   "outputs": [],
   "source": [
    "dfa = pd.read_csv(\"/home/sina/projects/atac/scATAK/data/shareseqv2/bmmc/geo_data/tbl.atac\", sep=\"\\t\", index_col=0)\n",
    "dfg = pd.read_csv(\"/home/sina/projects/atac/scATAK/data/shareseqv2/bmmc/geo_data/tbl.rna\", sep=\"\\t\", index_col=0)\n",
    "\n",
    "common = np.intersect1d(dfa.index, dfg.index)"
   ]
  },
  {
   "cell_type": "code",
   "execution_count": 152,
   "id": "0853bcbb-3a95-47bd-b24e-9474d0594b1d",
   "metadata": {
    "tags": []
   },
   "outputs": [],
   "source": [
    "# Barcodes\n",
    "mg.obs = mx_inspect_rows(mg.X.copy(), mg.obs.index.values)\n",
    "ma.obs = mx_inspect_rows(ma.X.copy(), ma.obs.index.values)\n",
    "\n",
    "# Features\n",
    "mg.var = mx_inspect_cols(mg.X.copy(), mg.var.index.values)\n",
    "ma.var = mx_inspect_cols(ma.X.copy(), ma.var.index.values)"
   ]
  },
  {
   "cell_type": "code",
   "execution_count": 158,
   "id": "85a234e4-847c-4493-935e-55c4dd07e734",
   "metadata": {
    "tags": []
   },
   "outputs": [],
   "source": [
    "# get the clusters for the filtered cells\n",
    "fmg = mg[common].copy()\n",
    "fmg.layers[\"raw\"] = fmg.X.copy()\n",
    "fmg.layers[\"log1pPF\"] = mx_normalize(fmg.X.copy(), method=\"log1pPF\")\n",
    "fmg.X = fmg.layers[\"log1pPF\"]"
   ]
  },
  {
   "cell_type": "code",
   "execution_count": 160,
   "id": "156a4908-1ecc-46ae-89cb-6061ec4a475d",
   "metadata": {
    "tags": []
   },
   "outputs": [
    {
     "name": "stdout",
     "output_type": "stream",
     "text": [
      "WARNING: You’re trying to run this on 60664 dimensions of `.X`, if you really want this, set `use_rep='X'`.\n",
      "         Falling back to preprocessing with `sc.pp.pca` and default params.\n"
     ]
    }
   ],
   "source": [
    "scanpy.pp.neighbors(fmg)\n",
    "scanpy.tl.leiden(fmg)"
   ]
  },
  {
   "cell_type": "code",
   "execution_count": 177,
   "id": "362c1a2a-580c-40ba-b22e-021ed15d4fc7",
   "metadata": {
    "tags": []
   },
   "outputs": [],
   "source": [
    "# map leiden to original mg object\n",
    "mg.obs[\"leiden\"] = mg.obs.index.map(fmg.obs[\"leiden\"])\n",
    "mg.obs[\"leiden\"] = mg.obs[\"leiden\"].astype(float).fillna(-1).astype(int)"
   ]
  },
  {
   "cell_type": "code",
   "execution_count": 179,
   "id": "34d22a19-76e4-41d5-876e-34c9cbf1c947",
   "metadata": {
    "tags": []
   },
   "outputs": [],
   "source": [
    "mg.obs[\"pass_filter\"] = mg.obs.index.isin(common)\n",
    "ma.obs[\"pass_filter\"] = ma.obs.index.isin(common)"
   ]
  },
  {
   "cell_type": "code",
   "execution_count": 180,
   "id": "ac1e8dd4-550d-4a50-a147-a1a8a4d9e6e2",
   "metadata": {
    "tags": []
   },
   "outputs": [],
   "source": [
    "mu = muon.MuData({\"gene\": mg, \"atac\": ma})"
   ]
  },
  {
   "cell_type": "code",
   "execution_count": 154,
   "id": "cdaf799d-aa20-4a38-9e7e-6a3e822090b1",
   "metadata": {
    "tags": []
   },
   "outputs": [],
   "source": [
    "mu.write_h5mu(\"/home/sina/projects/atac/scATAK/data/shareseqv2/bmmc/mu.h5mu\")"
   ]
  },
  {
   "cell_type": "code",
   "execution_count": null,
   "id": "aaf848c7-5b67-4772-a4d8-11857682f8c1",
   "metadata": {},
   "outputs": [],
   "source": [
    "# write gene clustering\n",
    "fmg.obs.to_csv(\"/home/sina/projects/atac/scATAK/data/shareseqv2/data/bmmc/out_gene/clustering.txt\", sep=\"\\t\", header=None)"
   ]
  },
  {
   "cell_type": "markdown",
   "id": "c5b46a83-f1fc-4a22-89cf-ebad99c3ca92",
   "metadata": {},
   "source": [
    "# MOMEX SNPs"
   ]
  },
  {
   "cell_type": "markdown",
   "id": "820fb40a-3134-432f-850c-b67d8b854fea",
   "metadata": {},
   "source": [
    "### ATAC SNPs"
   ]
  },
  {
   "cell_type": "code",
   "execution_count": 184,
   "id": "2b647f0c-c5ae-4dc8-8107-b5a879edc961",
   "metadata": {
    "tags": []
   },
   "outputs": [],
   "source": [
    "ref           = mmread(\"/home/sina/projects/atac/scATAK/data/10xPBMC/mome_x/out_kb_snps_atac/counts_mult/ref.mtx\").tocsr()\n",
    "alt           = mmread(\"/home/sina/projects/atac/scATAK/data/10xPBMC/mome_x/out_kb_snps_atac/counts_mult/alt.mtx\").tocsr()\n",
    "barcodes = pd.read_csv(\"/home/sina/projects/atac/scATAK/data/10xPBMC/mome_x/out_kb_snps_atac/counts_mult/cells_x_genes.barcodes.txt\", header=None, names=[\"bcs\"], index_col=0)\n",
    "genes    = pd.read_csv(\"/home/sina/projects/atac/scATAK/data/10xPBMC/mome_x/out_kb_snps_atac/counts_mult/ref.genes.txt\", header=None, names=[\"genes\"], index_col=0)\n",
    "\n",
    "M = ref+alt\n",
    "\n",
    "# make anndata of ref, alt, M (sum of ref+alt)\n",
    "ma = anndata.AnnData(X=M, obs=barcodes, var=genes, dtype=int)\n",
    "ma.layers[\"ref\"] = ref\n",
    "ma.layers[\"alt\"] = alt\n",
    "\n",
    "# get rid of the \"_ref\"\n",
    "ma.var.index = ma.var.index.map(lambda x: x.split(\"_\")[0])\n",
    "\n",
    "# do the genotyping\n",
    "e = 1e-4 # 0.0001\n",
    "a = ref*np.log(1-e) + alt*np.log(e) # hom_alt (1 in sparse matrix)\n",
    "b = (ref+alt)*np.log(0.5)           # het     (2 in sparse matrix)\n",
    "c = ref*np.log(e) + alt*np.log(1-e) # hom_ref (3 in sparse matrix)\n",
    "ll = np.array([a.data, b.data, c.data])\n",
    "\n",
    "geno = a.copy()\n",
    "amax = np.argmax(ll, axis=0)+1\n",
    "geno.data = amax # since its a sparse matrix andthe zeros are actually informative\n",
    "\n",
    "ma.layers[\"gt\"] = geno\n",
    "ma.obs = mx_inspect_rows(ma.X.copy(), ma.obs.index.values)\n",
    "ma.var = mx_inspect_cols(ma.X.copy(), ma.var.index.values)"
   ]
  },
  {
   "cell_type": "code",
   "execution_count": 186,
   "id": "7fe44ec3-8d42-4faa-b6b3-de0950525b87",
   "metadata": {
    "tags": []
   },
   "outputs": [],
   "source": [
    "# load whitelists\n",
    "awl = pd.read_csv(\"/home/sina/projects/atac/scATAK/references/onlists/10xMOME/ATA-737K-arc-v1_rc.txt\", header=None, names=[\"ata\"]) # 737K-arc-v1_rc.txt\n",
    "gwl = pd.read_csv(\"/home/sina/projects/atac/scATAK/references/onlists/10xMOME/RNA-737K-arc-v1.txt\", header=None, names=[\"rna\"]) # 10x_version3_whitelist.txt\n",
    "\n",
    "# Map BCs between MOME-RNA and MOME-ATAC\n",
    "bcmap = pd.concat([awl, gwl], axis=1).set_index(\"ata\")\n",
    "\n",
    "ma.obs[\"ata_bcs\"] = ma.obs.index.values\n",
    "ma.obs[\"rna_bcs\"] = ma.obs.index.map(bcmap[\"rna\"])\n",
    "ma.obs.set_index(\"rna_bcs\", inplace=True)"
   ]
  },
  {
   "cell_type": "markdown",
   "id": "ab90b01a-2cbd-43fe-acb8-78d01179dadf",
   "metadata": {},
   "source": [
    "### GENE SNPs"
   ]
  },
  {
   "cell_type": "code",
   "execution_count": 185,
   "id": "646d76c3-293a-45ca-992f-b392c6565625",
   "metadata": {
    "tags": []
   },
   "outputs": [],
   "source": [
    "ref           = mmread(\"/home/sina/projects/atac/scATAK/data/10xPBMC/mome_x/out_kb_snps_gene/counts_unfiltered/ref.mtx\").tocsr()\n",
    "alt           = mmread(\"/home/sina/projects/atac/scATAK/data/10xPBMC/mome_x/out_kb_snps_gene/counts_unfiltered/alt.mtx\").tocsr()\n",
    "barcodes = pd.read_csv(\"/home/sina/projects/atac/scATAK/data/10xPBMC/mome_x/out_kb_snps_gene/counts_unfiltered/cells_x_genes.barcodes.txt\", header=None, names=[\"bcs\"], index_col=0)\n",
    "genes    = pd.read_csv(\"/home/sina/projects/atac/scATAK/data/10xPBMC/mome_x/out_kb_snps_gene/counts_unfiltered/ref.genes.txt\", header=None, names=[\"genes\"], index_col=0)\n",
    "\n",
    "M = ref+alt\n",
    "\n",
    "# make anndata of ref, alt, M (sum of ref+alt)\n",
    "mg = anndata.AnnData(X=M, obs=barcodes, var=genes, dtype=int)\n",
    "mg.layers[\"ref\"] = ref\n",
    "mg.layers[\"alt\"] = alt\n",
    "\n",
    "# get rid of the \"_ref\"\n",
    "mg.var.index = mg.var.index.map(lambda x: x.split(\"_\")[0])\n",
    "\n",
    "# do the genotyping\n",
    "e = 1e-4 # 0.0001\n",
    "a = ref*np.log(1-e) + alt*np.log(e) # hom_alt (1 in sparse matrix)\n",
    "b = (ref+alt)*np.log(0.5)           # het     (2 in sparse matrix)\n",
    "c = ref*np.log(e) + alt*np.log(1-e) # hom_ref (3 in sparse matrix)\n",
    "ll = np.array([a.data, b.data, c.data])\n",
    "\n",
    "geno = a.copy()\n",
    "amax = np.argmax(ll, axis=0)+1\n",
    "geno.data = amax # since its a sparse matrix andthe zeros are actually informative\n",
    "\n",
    "mg.layers[\"gt\"] = geno\n",
    "mg.obs = mx_inspect_rows(mg.X.copy(), mg.obs.index.values)\n",
    "mg.var = mx_inspect_cols(mg.X.copy(), mg.var.index.values)"
   ]
  },
  {
   "cell_type": "code",
   "execution_count": 187,
   "id": "9b374a6a-ac89-40a5-ace1-c7984dcdce74",
   "metadata": {
    "tags": []
   },
   "outputs": [],
   "source": [
    "ma.obs[\"cluster\"] = ma.obs.index.map(adf[\"Cluster\"])\n",
    "mg.obs[\"cluster\"] = mg.obs.index.map(gdf[\"Cluster\"])"
   ]
  },
  {
   "cell_type": "code",
   "execution_count": 213,
   "id": "c74c6085-3455-4849-a5e4-42ec867613ee",
   "metadata": {
    "tags": []
   },
   "outputs": [],
   "source": [
    "mg.var[\"tmp\"] = 0"
   ]
  },
  {
   "cell_type": "code",
   "execution_count": 188,
   "id": "6991435c-1fdf-444b-bb24-02082713e0a8",
   "metadata": {
    "tags": []
   },
   "outputs": [],
   "source": [
    "mg = mg[mg.obs.dropna().sort_index().index].copy()\n",
    "ma = ma[ma.obs.dropna().sort_index().index].copy()\n",
    "\n",
    "mg.obs[\"cluster\"] = mg.obs[\"cluster\"].astype(int)\n",
    "ma.obs[\"cluster\"] = ma.obs[\"cluster\"].astype(int)"
   ]
  },
  {
   "cell_type": "code",
   "execution_count": 217,
   "id": "34e5ab47-ad9b-4666-acc3-6677bc3f2231",
   "metadata": {
    "tags": []
   },
   "outputs": [],
   "source": [
    "snp_mask = np.logical_and(mg.var.counts_nnzero > 4, \n",
    "                          ma.var.counts_nnzero > 4)"
   ]
  },
  {
   "cell_type": "code",
   "execution_count": 218,
   "id": "035a2d77-e443-43a4-aa8a-ed1c8504753f",
   "metadata": {
    "tags": []
   },
   "outputs": [],
   "source": [
    "fmg = mg[:,snp_mask].copy()\n",
    "fma = ma[:,snp_mask].copy()"
   ]
  },
  {
   "cell_type": "code",
   "execution_count": 219,
   "id": "76ded888-5d57-485e-8884-af4a4913b07d",
   "metadata": {
    "tags": []
   },
   "outputs": [
    {
     "name": "stdout",
     "output_type": "stream",
     "text": [
      "(10970, 73976)\n",
      "(10970, 73976)\n"
     ]
    }
   ],
   "source": [
    "print(fma.shape, fmg.shape,sep=\"\\n\")"
   ]
  },
  {
   "cell_type": "code",
   "execution_count": 225,
   "id": "08415a81-b018-4a18-95f4-a7aa0d0fecfe",
   "metadata": {
    "tags": []
   },
   "outputs": [],
   "source": [
    "fma.write_h5ad(\"/home/sina/projects/atac/scATAK/data/10xPBMC/mome_x/atac.h5ad\")\n",
    "fmg.write_h5ad(\"/home/sina/projects/atac/scATAK/data/10xPBMC/mome_x/gene.h5ad\")"
   ]
  },
  {
   "cell_type": "code",
   "execution_count": 224,
   "id": "00eb4127-53ab-4fcf-b5bd-46ce7783fa9c",
   "metadata": {
    "tags": []
   },
   "outputs": [],
   "source": [
    "# write anndata instead of muon for snps"
   ]
  },
  {
   "cell_type": "markdown",
   "id": "f0fd10d4-6646-488d-9c22-86f6538be6b3",
   "metadata": {},
   "source": [
    "# SHARE-Seqv2 BMMC SNPs"
   ]
  },
  {
   "cell_type": "code",
   "execution_count": 232,
   "id": "de637533-f88e-4469-9d6e-2cceb3641698",
   "metadata": {
    "tags": []
   },
   "outputs": [],
   "source": [
    "cl = pd.read_csv(\"/home/sina/projects/atac/scATAK/data/shareseqv2/bmmc/out_gene/clustering.txt\", sep=\"\\t\", header=None, names=[\"bcs\", \"cluster\"], index_col=0)"
   ]
  },
  {
   "cell_type": "markdown",
   "id": "18d295da-df80-465a-8f4a-39e9e2df3113",
   "metadata": {},
   "source": [
    "### ATAC SNPs"
   ]
  },
  {
   "cell_type": "code",
   "execution_count": 227,
   "id": "2aab8d40-2367-4a07-92d7-7460143484c2",
   "metadata": {
    "tags": []
   },
   "outputs": [],
   "source": [
    "ref           = mmread(\"/home/sina/projects/atac/scATAK/data/shareseqv2/bmmc/out_snp_atac/counts_mult/ref.mtx\").tocsr()\n",
    "alt           = mmread(\"/home/sina/projects/atac/scATAK/data/shareseqv2/bmmc/out_snp_atac/counts_mult/alt.mtx\").tocsr()\n",
    "barcodes = pd.read_csv(\"/home/sina/projects/atac/scATAK/data/shareseqv2/bmmc/out_snp_atac/counts_mult/cells_x_genes.barcodes.txt\", header=None, names=[\"bcs\"], index_col=0)\n",
    "genes    = pd.read_csv(\"/home/sina/projects/atac/scATAK/data/shareseqv2/bmmc/out_snp_atac/counts_mult/ref.genes.txt\", header=None, names=[\"genes\"], index_col=0)\n",
    "\n",
    "M = ref+alt\n",
    "\n",
    "# make anndata of ref, alt, M (sum of ref+alt)\n",
    "ma = anndata.AnnData(X=M, obs=barcodes, var=genes, dtype=int)\n",
    "ma.layers[\"ref\"] = ref\n",
    "ma.layers[\"alt\"] = alt\n",
    "\n",
    "# get rid of the \"_ref\"\n",
    "ma.var.index = ma.var.index.map(lambda x: x.split(\"_\")[0])\n",
    "\n",
    "# do the genotyping\n",
    "e = 1e-4 # 0.0001\n",
    "a = ref*np.log(1-e) + alt*np.log(e) # hom_alt (1 in sparse matrix)\n",
    "b = (ref+alt)*np.log(0.5)           # het     (2 in sparse matrix)\n",
    "c = ref*np.log(e) + alt*np.log(1-e) # hom_ref (3 in sparse matrix)\n",
    "ll = np.array([a.data, b.data, c.data])\n",
    "\n",
    "geno = a.copy()\n",
    "amax = np.argmax(ll, axis=0)+1\n",
    "geno.data = amax # since its a sparse matrix andthe zeros are actually informative\n",
    "\n",
    "ma.layers[\"gt\"] = geno\n",
    "ma.obs = mx_inspect_rows(ma.X.copy(), ma.obs.index.values)\n",
    "ma.var = mx_inspect_cols(ma.X.copy(), ma.var.index.values)"
   ]
  },
  {
   "cell_type": "code",
   "execution_count": 228,
   "id": "7a1117d1-2e48-41fd-bee5-690fcb057206",
   "metadata": {
    "tags": []
   },
   "outputs": [],
   "source": [
    "ref           = mmread(\"/home/sina/projects/atac/scATAK/data/shareseqv2/bmmc/out_snp_gene/counts_unfiltered/ref.mtx\").tocsr()\n",
    "alt           = mmread(\"/home/sina/projects/atac/scATAK/data/shareseqv2/bmmc/out_snp_gene/counts_unfiltered/alt.mtx\").tocsr()\n",
    "barcodes = pd.read_csv(\"/home/sina/projects/atac/scATAK/data/shareseqv2/bmmc/out_snp_gene/counts_unfiltered/cells_x_genes.barcodes.txt\", header=None, names=[\"bcs\"], index_col=0)\n",
    "genes    = pd.read_csv(\"/home/sina/projects/atac/scATAK/data/shareseqv2/bmmc/out_snp_gene/counts_unfiltered/ref.genes.txt\", header=None, names=[\"genes\"], index_col=0)\n",
    "\n",
    "M = ref+alt\n",
    "\n",
    "# make anndata of ref, alt, M (sum of ref+alt)\n",
    "mg = anndata.AnnData(X=M, obs=barcodes, var=genes, dtype=int)\n",
    "mg.layers[\"ref\"] = ref\n",
    "mg.layers[\"alt\"] = alt\n",
    "\n",
    "# get rid of the \"_ref\"\n",
    "mg.var.index = mg.var.index.map(lambda x: x.split(\"_\")[0])\n",
    "\n",
    "# do the genotyping\n",
    "e = 1e-4 # 0.0001\n",
    "a = ref*np.log(1-e) + alt*np.log(e) # hom_alt (1 in sparse matrix)\n",
    "b = (ref+alt)*np.log(0.5)           # het     (2 in sparse matrix)\n",
    "c = ref*np.log(e) + alt*np.log(1-e) # hom_ref (3 in sparse matrix)\n",
    "ll = np.array([a.data, b.data, c.data])\n",
    "\n",
    "geno = a.copy()\n",
    "amax = np.argmax(ll, axis=0)+1\n",
    "geno.data = amax # since its a sparse matrix andthe zeros are actually informative\n",
    "\n",
    "mg.layers[\"gt\"] = geno\n",
    "mg.obs = mx_inspect_rows(mg.X.copy(), mg.obs.index.values)\n",
    "mg.var = mx_inspect_cols(mg.X.copy(), mg.var.index.values)"
   ]
  },
  {
   "cell_type": "code",
   "execution_count": 233,
   "id": "007a37d5-c5a6-434e-9d90-17f0a64f9811",
   "metadata": {
    "tags": []
   },
   "outputs": [],
   "source": [
    "ma.obs[\"cluster\"] = ma.obs.index.map(cl[\"cluster\"])\n",
    "mg.obs[\"cluster\"] = mg.obs.index.map(cl[\"cluster\"])"
   ]
  },
  {
   "cell_type": "code",
   "execution_count": 234,
   "id": "aeb99120-0ac6-4f5c-a2b1-b02138946027",
   "metadata": {
    "tags": []
   },
   "outputs": [],
   "source": [
    "mg = mg[mg.obs.dropna().sort_index().index].copy()\n",
    "ma = ma[ma.obs.dropna().sort_index().index].copy()\n",
    "\n",
    "mg.obs[\"cluster\"] = mg.obs[\"cluster\"].astype(int)\n",
    "ma.obs[\"cluster\"] = ma.obs[\"cluster\"].astype(int)"
   ]
  },
  {
   "cell_type": "code",
   "execution_count": 235,
   "id": "5669ed3d-c82a-45b5-b65b-d989e81c75ea",
   "metadata": {
    "tags": []
   },
   "outputs": [],
   "source": [
    "snp_mask = np.logical_and(mg.var.counts_nnzero > 6, \n",
    "                          ma.var.counts_nnzero > 6)"
   ]
  },
  {
   "cell_type": "code",
   "execution_count": 236,
   "id": "fd916c2c-153a-4446-8a47-b5ef244b7169",
   "metadata": {
    "tags": []
   },
   "outputs": [],
   "source": [
    "fmg = mg[:,snp_mask].copy()\n",
    "fma = ma[:,snp_mask].copy()"
   ]
  },
  {
   "cell_type": "code",
   "execution_count": 237,
   "id": "c00ee17c-18ae-4869-9d58-da441851c549",
   "metadata": {
    "tags": []
   },
   "outputs": [
    {
     "name": "stdout",
     "output_type": "stream",
     "text": [
      "(48559, 67867)\n",
      "(48559, 67867)\n"
     ]
    }
   ],
   "source": [
    "print(fma.shape, fmg.shape, sep=\"\\n\")"
   ]
  },
  {
   "cell_type": "code",
   "execution_count": 238,
   "id": "fa3cce43-8cce-4735-8d8b-865e706f1450",
   "metadata": {
    "tags": []
   },
   "outputs": [],
   "source": [
    "fma.write_h5ad(\"/home/sina/projects/atac/scATAK/data/shareseqv2/bmmc/atac.h5ad\")\n",
    "fmg.write_h5ad(\"/home/sina/projects/atac/scATAK/data/shareseqv2/bmmc/gene.h5ad\")"
   ]
  },
  {
   "cell_type": "markdown",
   "id": "f551ab96-69e2-46ad-abc4-53dfd9f0a09c",
   "metadata": {},
   "source": [
    "# snATAK Cell Ranger comparison"
   ]
  },
  {
   "cell_type": "markdown",
   "id": "2ecd53a9-efc8-4c2c-b935-6f61cb93372f",
   "metadata": {},
   "source": [
    "### cmp kb cr on cr peaks"
   ]
  },
  {
   "cell_type": "code",
   "execution_count": 253,
   "id": "628d5129-c5ff-429c-9cee-f3a4352e6016",
   "metadata": {},
   "outputs": [],
   "source": [
    "def rc(seq):\n",
    "    complement = {'A': 'T', 'C': 'G', 'G': 'C', 'T': 'A'}\n",
    "    reverse_complement = \"\".join(complement.get(base, base) for base in reversed(seq))\n",
    "    return reverse_complement\n",
    "\n",
    "## load in matrices\n",
    "\n",
    "# Cellranger\n",
    "p = \"/home/sina/projects/atac/scATAK/data/10xPBMC/atac_x/out_cr_peaks_cr_quant/quant-cr/outs/raw_peak_bc_matrix/adata.h5ad\"\n",
    "crcr = anndata.read_h5ad(p)\n",
    "\n",
    "# This dataset had revc barcodes, so correct\n",
    "crcr.obs.index = crcr.obs.index.map(rc)\n",
    "\n",
    "# These are the barcodes that pass filter\n",
    "fbcs = pd.read_csv(\"/home/sina/projects/atac/scATAK/data/10xPBMC/atac_x/out_cr_peaks_cr_quant/quant-cr/outs/filtered_peak_bc_matrix/barcodes.txt\", header=None, names=[\"bcs\"])[\"bcs\"].apply(rc).sort_values().values\n",
    "p = \"/home/sina/projects/atac/scATAK/data/10xPBMC/atac_x/out_cr_peaks_kb_quant/quant-kb/counts_mult/adata.h5ad\"\n",
    "kbcr = anndata.read_h5ad(p)\n",
    "\n",
    "# Get the common barcodes\n",
    "kbcrbcs = kbcr.obs.index.values\n",
    "crcrbcs = crcr.obs.index.values\n",
    "\n",
    "common_bcs = np.intersect1d(kbcrbcs, crcrbcs)\n",
    "\n",
    "# Make raw matrices on common barcodes\n",
    "raw_crcr = crcr[common_bcs].copy()\n",
    "raw_kbcr = kbcr[common_bcs].copy()\n",
    "\n",
    "# Make filtered matrices on common barcodes\n",
    "crcr = raw_crcr[fbcs].copy()\n",
    "kbcr = raw_kbcr[fbcs].copy()"
   ]
  },
  {
   "cell_type": "code",
   "execution_count": 254,
   "id": "df15bbc3-37f0-44b2-bbfe-ab6277f364d5",
   "metadata": {
    "tags": []
   },
   "outputs": [],
   "source": [
    "raw = muon.MuData({\"cr\": raw_crcr, \"kb\": raw_kbcr})\n",
    "fil = muon.MuData({\"cr\": crcr, \"kb\": kbcr})"
   ]
  },
  {
   "cell_type": "code",
   "execution_count": 255,
   "id": "1391ffc3-b93e-458e-bc95-028b2826ef51",
   "metadata": {
    "tags": []
   },
   "outputs": [],
   "source": [
    "raw.write_h5mu(\"/home/sina/projects/atac/scATAK/data/10xPBMC/atac_x/raw_cr_peaks.h5mu\")\n",
    "fil.write_h5mu(\"/home/sina/projects/atac/scATAK/data/10xPBMC/atac_x/fil_cr_peaks.h5mu\")"
   ]
  },
  {
   "cell_type": "markdown",
   "id": "ce5248cd-5627-4e45-b342-c1440c424db2",
   "metadata": {},
   "source": [
    "### cmp kb cr on kb peaks"
   ]
  },
  {
   "cell_type": "code",
   "execution_count": 256,
   "id": "ac14c139-74e1-4eba-bc26-21d55358cb3c",
   "metadata": {
    "tags": []
   },
   "outputs": [],
   "source": [
    "# load in matrices\n",
    "\n",
    "# Cellranger\n",
    "p = \"/home/sina/projects/atac/scATAK/data/10xPBMC/atac_x/out_kb_peaks_cr_quant/cr-peaks/outs/raw_peak_bc_matrix/adata.h5ad\"\n",
    "crkb = anndata.read_h5ad(p)\n",
    "\n",
    "# This dataset had revc barcodes, so correct\n",
    "crkb.obs.index = crkb.obs.index.map(rc)\n",
    "\n",
    "# These are the barcodes that pass filter\n",
    "fbcs = pd.read_csv(\n",
    "    \"/home/sina/projects/atac/scATAK/data/10xPBMC/atac_x/out_kb_peaks_cr_quant/cr-peaks/outs/filtered_peak_bc_matrix/barcodes.txt\", \n",
    "    header=None, names=[\"bcs\"])[\"bcs\"].apply(rc).sort_values().values\n",
    "\n",
    "p = \"/home/sina/projects/atac/scATAK/data/10xPBMC/atac_x/out_kb_peaks_kb_quant/kb-peaks/counts_mult/adata.h5ad\"\n",
    "kbkb = anndata.read_h5ad(p)\n",
    "\n",
    "# Get the common barcodes\n",
    "kbkbbcs = kbkb.obs.index.values\n",
    "crkbbcs = crkb.obs.index.values\n",
    "\n",
    "common_bcs = np.intersect1d(\n",
    "    kbkbbcs, \n",
    "    crkbbcs\n",
    ")\n",
    "\n",
    "\n",
    "\n",
    "# Make raw matrices on common barcodes\n",
    "raw_crkb = crkb[common_bcs].copy()\n",
    "raw_kbkb = kbkb[common_bcs].copy()\n",
    "\n",
    "crkb_peaks = raw_crkb.var.index.values\n",
    "kbkb_peaks = raw_kbkb.var.index.values\n",
    "common_peaks = np.intersect1d(\n",
    "    kbkb_peaks, \n",
    "    crkb_peaks\n",
    ")\n",
    "\n",
    "# Make raw matrices on common barcodes\n",
    "raw_crkb = raw_crkb[:,common_peaks].copy()\n",
    "raw_kbkb = raw_kbkb[:,common_peaks].copy()\n",
    "\n",
    "# Make filtered matrices on common barcodes\n",
    "crkb = raw_crkb[fbcs].copy()\n",
    "kbkb = raw_kbkb[fbcs].copy()"
   ]
  },
  {
   "cell_type": "code",
   "execution_count": null,
   "id": "f7643bee-bf1c-4cd4-b75b-e592bb1d2028",
   "metadata": {},
   "outputs": [],
   "source": [
    "# write anndata"
   ]
  },
  {
   "cell_type": "code",
   "execution_count": 257,
   "id": "bc188e16-6131-43b9-84a0-e779a11f4a3e",
   "metadata": {
    "tags": []
   },
   "outputs": [],
   "source": [
    "raw = muon.MuData({\"cr\": raw_crkb, \"kb\": raw_kbkb})\n",
    "fil = muon.MuData({\"cr\": crkb, \"kb\": kbkb})"
   ]
  },
  {
   "cell_type": "code",
   "execution_count": 258,
   "id": "ebb5296a-2ca5-4e2f-ba83-491b68ab1f6d",
   "metadata": {
    "tags": []
   },
   "outputs": [],
   "source": [
    "raw.write_h5mu(\"/home/sina/projects/atac/scATAK/data/10xPBMC/atac_x/raw_kb_peaks.h5mu\")\n",
    "fil.write_h5mu(\"/home/sina/projects/atac/scATAK/data/10xPBMC/atac_x/fil_kb_peaks.h5mu\")"
   ]
  },
  {
   "cell_type": "markdown",
   "id": "0b11700e-db06-43be-9011-a6ecc8639bb5",
   "metadata": {},
   "source": [
    "# 10x tech comparison"
   ]
  },
  {
   "cell_type": "code",
   "execution_count": 4,
   "id": "b182e94e-d1b6-474f-8d36-5b7646ecce93",
   "metadata": {
    "tags": []
   },
   "outputs": [],
   "source": [
    "acc = anndata.read_h5ad(\"/home/sina/projects/atac/scATAK/data/10xPBMC/atac_c/out_kb_peaks_subsam/counts_mult/adata.h5ad\")\n",
    "acx = anndata.read_h5ad(\"/home/sina/projects/atac/scATAK/data/10xPBMC/atac_x/out_kb_peaks_subsam/counts_mult/adata.h5ad\")\n",
    "mcc = anndata.read_h5ad(\"/home/sina/projects/atac/scATAK/data/10xPBMC/mome_c/out_kb_peaks_subsam/counts_mult/adata.h5ad\")\n",
    "mcx = anndata.read_h5ad(\"/home/sina/projects/atac/scATAK/data/10xPBMC/mome_x/out_kb_peaks_subsam/counts_mult/adata.h5ad\")"
   ]
  },
  {
   "cell_type": "code",
   "execution_count": 5,
   "id": "19b4a302-6abb-4266-b4f6-13b164a60c81",
   "metadata": {
    "tags": []
   },
   "outputs": [],
   "source": [
    "acc.obs = mx_inspect_rows(acc.X.copy(), acc.obs.index.values)\n",
    "acx.obs = mx_inspect_rows(acx.X.copy(), acx.obs.index.values)\n",
    "mcc.obs = mx_inspect_rows(mcc.X.copy(), mcc.obs.index.values)\n",
    "mcx.obs = mx_inspect_rows(mcx.X.copy(), mcx.obs.index.values)\n",
    "\n",
    "acc.var = mx_inspect_cols(acc.X.copy(), acc.var.index.values)\n",
    "acx.var = mx_inspect_cols(acx.X.copy(), acx.var.index.values)\n",
    "mcc.var = mx_inspect_cols(mcc.X.copy(), mcc.var.index.values)\n",
    "mcx.var = mx_inspect_cols(mcx.X.copy(), mcx.var.index.values)"
   ]
  },
  {
   "cell_type": "code",
   "execution_count": 6,
   "id": "05c40b9d-2a55-46e6-97cc-d3afe017f556",
   "metadata": {
    "tags": []
   },
   "outputs": [],
   "source": [
    "acc.write_h5ad(\"/home/sina/projects/atac/scATAK/data/10xPBMC/atac_c/out_kb_peaks_subsam/adata.h5ad\")\n",
    "acx.write_h5ad(\"/home/sina/projects/atac/scATAK/data/10xPBMC/atac_x/out_kb_peaks_subsam/adata.h5ad\")\n",
    "mcc.write_h5ad(\"/home/sina/projects/atac/scATAK/data/10xPBMC/mome_c/out_kb_peaks_subsam/adata.h5ad\")\n",
    "mcx.write_h5ad(\"/home/sina/projects/atac/scATAK/data/10xPBMC/mome_x/out_kb_peaks_subsam/adata.h5ad\")"
   ]
  },
  {
   "cell_type": "code",
   "execution_count": null,
   "id": "bacedb8e-8d99-4a05-b08f-8f61663e3b16",
   "metadata": {},
   "outputs": [],
   "source": []
  }
 ],
 "metadata": {
  "kernelspec": {
   "display_name": "Python 3 (ipykernel)",
   "language": "python",
   "name": "python3"
  },
  "language_info": {
   "codemirror_mode": {
    "name": "ipython",
    "version": 3
   },
   "file_extension": ".py",
   "mimetype": "text/x-python",
   "name": "python",
   "nbconvert_exporter": "python",
   "pygments_lexer": "ipython3",
   "version": "3.7.4"
  }
 },
 "nbformat": 4,
 "nbformat_minor": 5
}
